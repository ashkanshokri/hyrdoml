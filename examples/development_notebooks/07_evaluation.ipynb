{
 "cells": [
  {
   "cell_type": "code",
   "execution_count": 42,
   "metadata": {},
   "outputs": [
    {
     "name": "stdout",
     "output_type": "stream",
     "text": [
      "The autoreload extension is already loaded. To reload it, use:\n",
      "  %reload_ext autoreload\n"
     ]
    },
    {
     "name": "stderr",
     "output_type": "stream",
     "text": [
      "c:\\Users\\sho108\\AppData\\Local\\pypoetry\\Cache\\virtualenvs\\hydroml-dFLAodHf-py3.11\\Lib\\site-packages\\xarray\\core\\computation.py:818: RuntimeWarning: invalid value encountered in sqrt\n",
      "  result_data = func(*input_data)\n",
      "c:\\Users\\sho108\\AppData\\Local\\pypoetry\\Cache\\virtualenvs\\hydroml-dFLAodHf-py3.11\\Lib\\site-packages\\xarray\\core\\computation.py:818: RuntimeWarning: invalid value encountered in sqrt\n",
      "  result_data = func(*input_data)\n",
      "c:\\Users\\sho108\\AppData\\Local\\pypoetry\\Cache\\virtualenvs\\hydroml-dFLAodHf-py3.11\\Lib\\site-packages\\xarray\\core\\computation.py:818: RuntimeWarning: invalid value encountered in sqrt\n",
      "  result_data = func(*input_data)\n"
     ]
    }
   ],
   "source": [
    "%load_ext autoreload\n",
    "%autoreload 2\n",
    "\n",
    "from hydroml.data.camels_aus_ds import get_dataset\n",
    "from hydroml.config.config import Config\n",
    "from hydroml.models.lstm import HydroLSTM\n",
    "from hydroml.models import get_model\n",
    "\n",
    "from hydroml.prediction.prediction import process_and_convert_dataloader_to_xarray\n",
    "import pandas as pd\n",
    "from hydroml.evaluation.metrics import get_metrics\n",
    "\n",
    "config = Config(\n",
    "                target_features=['streamflow_mmd'],\n",
    "                dynamic_features=['precipitation_AWAP', 'et_morton_wet_SILO'],\n",
    "                static_features=[],\n",
    "                evolving_static_features={'dynamic_feature_mean': {'dynamic_features': ['precipitation_AWAP']}}, \n",
    "                evolving_metadata={'observed_target_std': {'target_features': ['streamflow_mmd']}}, # can be set automatically\n",
    "                batch_size=16,\n",
    "                cal={'periods' : [['2011-01-01', '2017-01-01']], 'catchment_ids':['410730', '401009']},\n",
    "                val={'periods' : [['2011-01-01', '2017-01-01']], 'catchment_ids':['410730', '401009']},\n",
    "                dataset_config={'basepath': 'Z://Data//CAMELS_AUS//preprocessed'}\n",
    "                )\n",
    "\n",
    "dataset = get_dataset(config, 'val')\n",
    "dataloader = dataset.to_dataloader()\n",
    "model = HydroLSTM(config) # or get_model(config)\n",
    "\n",
    "\n",
    "# make predictions for all catchments\n",
    "ds = process_and_convert_dataloader_to_xarray(dataloader, model).squeeze()\n",
    "metrics = get_metrics(ds)"
   ]
  },
  {
   "cell_type": "code",
   "execution_count": 43,
   "metadata": {},
   "outputs": [
    {
     "data": {
      "text/html": [
       "<div>\n",
       "<style scoped>\n",
       "    .dataframe tbody tr th:only-of-type {\n",
       "        vertical-align: middle;\n",
       "    }\n",
       "\n",
       "    .dataframe tbody tr th {\n",
       "        vertical-align: top;\n",
       "    }\n",
       "\n",
       "    .dataframe thead th {\n",
       "        text-align: right;\n",
       "    }\n",
       "</style>\n",
       "<table border=\"1\" class=\"dataframe\">\n",
       "  <thead>\n",
       "    <tr style=\"text-align: right;\">\n",
       "      <th></th>\n",
       "      <th>nse</th>\n",
       "      <th>kge</th>\n",
       "      <th>rmse</th>\n",
       "      <th>bias</th>\n",
       "      <th>relative_bias</th>\n",
       "      <th>absolute_bias</th>\n",
       "      <th>nse_sqrt</th>\n",
       "    </tr>\n",
       "    <tr>\n",
       "      <th>catchment_id</th>\n",
       "      <th></th>\n",
       "      <th></th>\n",
       "      <th></th>\n",
       "      <th></th>\n",
       "      <th></th>\n",
       "      <th></th>\n",
       "      <th></th>\n",
       "    </tr>\n",
       "  </thead>\n",
       "  <tbody>\n",
       "    <tr>\n",
       "      <th>401009</th>\n",
       "      <td>-0.154836</td>\n",
       "      <td>-0.886736</td>\n",
       "      <td>0.661786</td>\n",
       "      <td>-0.178361</td>\n",
       "      <td>-1.178361</td>\n",
       "      <td>0.178361</td>\n",
       "      <td>NaN</td>\n",
       "    </tr>\n",
       "    <tr>\n",
       "      <th>410730</th>\n",
       "      <td>-0.016786</td>\n",
       "      <td>-0.615367</td>\n",
       "      <td>1.246738</td>\n",
       "      <td>0.192413</td>\n",
       "      <td>-0.807587</td>\n",
       "      <td>0.192413</td>\n",
       "      <td>-0.593795</td>\n",
       "    </tr>\n",
       "  </tbody>\n",
       "</table>\n",
       "</div>"
      ],
      "text/plain": [
       "                   nse       kge      rmse      bias  relative_bias  \\\n",
       "catchment_id                                                          \n",
       "401009       -0.154836 -0.886736  0.661786 -0.178361      -1.178361   \n",
       "410730       -0.016786 -0.615367  1.246738  0.192413      -0.807587   \n",
       "\n",
       "              absolute_bias  nse_sqrt  \n",
       "catchment_id                           \n",
       "401009             0.178361       NaN  \n",
       "410730             0.192413 -0.593795  "
      ]
     },
     "execution_count": 43,
     "metadata": {},
     "output_type": "execute_result"
    }
   ],
   "source": [
    "metrics.to_dataframe()"
   ]
  }
 ],
 "metadata": {
  "kernelspec": {
   "display_name": "hydroml-dFLAodHf-py3.11",
   "language": "python",
   "name": "python3"
  },
  "language_info": {
   "codemirror_mode": {
    "name": "ipython",
    "version": 3
   },
   "file_extension": ".py",
   "mimetype": "text/x-python",
   "name": "python",
   "nbconvert_exporter": "python",
   "pygments_lexer": "ipython3",
   "version": "3.11.9"
  }
 },
 "nbformat": 4,
 "nbformat_minor": 2
}
