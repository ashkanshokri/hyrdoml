{
 "cells": [
  {
   "cell_type": "code",
   "execution_count": null,
   "metadata": {},
   "outputs": [],
   "source": [
    "%load_ext autoreload\n",
    "%autoreload 2\n",
    "\n",
    "from hydroml.training.train import train\n",
    "from hydroml.config.config import Config, load_config\n",
    "import hydroml.training.finetune as ft\n",
    "from hydroml.models import get_model_from_path\n",
    "from hydroml.data.camels_aus_ds import get_dataset\n",
    "from hydroml.prediction.prediction import process_and_convert_dataloader_to_xarray\n",
    "from hydroml.models.get_model_from_path import get_model_from_path\n",
    "from hydroml.evaluation.metrics import get_metrics\n",
    "# read basins.txt\n",
    "\n",
    "\n",
    "with open('P://work//sho108//hydroml//workflows//basins.txt', 'r') as f:\n",
    "    basins = f.read().splitlines()\n",
    "\n",
    "\n",
    "config = Config(cal={'periods' : [['1985-01-01', '2014-01-01']], 'catchment_ids':basins[:4]}, #, 'weights': [1, 1, 1, 1, 1, 1, 1, 1, 1]\n",
    "                val={'periods' : [['1985-01-01', '2014-01-01']], 'catchment_ids':basins[:4]}, #,\n",
    "                max_epochs=150,\n",
    "                lstm_hidden_size=64,\n",
    "                batch_size=128,\n",
    "                )\n",
    "\n",
    "current_path, version = train(config)\n",
    "\n",
    "dataset = get_dataset(config, 'val', is_train=True)\n",
    "dataloader = dataset.to_dataloader()\n",
    "model = get_model_from_path(current_path/version)\n",
    "\n",
    "ds = process_and_convert_dataloader_to_xarray(dataloader, model, config)\n",
    "m_after_reload_from_path = get_metrics(ds)\n",
    "\n"
   ]
  },
  {
   "cell_type": "code",
   "execution_count": null,
   "metadata": {},
   "outputs": [],
   "source": [
    "from pathlib import Path\n",
    "current_path = Path('P://work//sho108//hydroml//results//default//')\n",
    "version = '241210095342_a18a'\n",
    "m_after_updating_the_config = {}\n",
    "m_after_finetuning = {}\n",
    "config = load_config(current_path/version/'config.yaml')\n",
    "model = get_model_from_path(current_path/version)\n",
    "#model.freeze_all_layers()\n",
    "#model.unfreeze_layers(['head'])\n",
    "#model.unfreeze_all_layers()\n",
    "\n",
    "model.lr = 1e-3\n",
    "\n",
    "\n",
    "\n",
    "ds = process_and_convert_dataloader_to_xarray(dataloader, model, config)\n",
    "before_finetuning = get_metrics(ds)\n",
    "\n",
    "for catchment_id in basins[1:2]:\n",
    "    #config = ft.update_config_for_per_catchment_finetune(config, cal_catchment_ids=[catchment_id], val_catchment_ids=[catchment_id], max_epochs=150)\n",
    "    #load_model_from_ath\n",
    "\n",
    "\n",
    "    ds = process_and_convert_dataloader_to_xarray(dataloader, model, config)\n",
    "    m_after_updating_the_config[catchment_id] = get_metrics(ds)\n",
    "\n",
    "    current_path, version = ft.finetune(model, config, finetune_directory='finetune', finetune_name=catchment_id)\n",
    "\n",
    "    ds = process_and_convert_dataloader_to_xarray(dataloader, model, config)\n",
    "    m_after_finetuning[catchment_id] = get_metrics(ds)"
   ]
  },
  {
   "cell_type": "code",
   "execution_count": null,
   "metadata": {},
   "outputs": [],
   "source": [
    "#get forget bias\n",
    "from matplotlib import pyplot as plt\n",
    "#model = get_model_from_path(current_path/version)\n",
    "plt.plot(model.get_forget_bias())\n",
    "\n"
   ]
  },
  {
   "cell_type": "code",
   "execution_count": null,
   "metadata": {},
   "outputs": [],
   "source": [
    "catchment_id"
   ]
  },
  {
   "cell_type": "code",
   "execution_count": null,
   "metadata": {},
   "outputs": [],
   "source": [
    "\n",
    "print('-- after reload from path')\n",
    "print(m_after_reload_from_path.to_dataframe().loc[basins[1], 'nse'])\n",
    "print('='*100)\n",
    "\n",
    "print('-- before finetuning')\n",
    "print(before_finetuning.to_dataframe().loc[basins[1], 'nse'])\n",
    "print('='*100)\n",
    "\n",
    "for catchment_id in [basins[1]]:\n",
    "    #print('-- after updating the config')\n",
    "    #print(f'Catchment ID: {catchment_id}')\n",
    "    \n",
    "    #print(m_after_updating_the_config[catchment_id].to_dataframe()['nse'])\n",
    "    \n",
    "    print('after finetuning')\n",
    "    print(m_after_finetuning[catchment_id].to_dataframe().loc[catchment_id, 'nse'])\n",
    "    print('-'*100)\n",
    "\n"
   ]
  },
  {
   "cell_type": "code",
   "execution_count": null,
   "metadata": {},
   "outputs": [],
   "source": []
  }
 ],
 "metadata": {
  "kernelspec": {
   "display_name": "hydroml-dFLAodHf-py3.11",
   "language": "python",
   "name": "python3"
  },
  "language_info": {
   "codemirror_mode": {
    "name": "ipython",
    "version": 3
   },
   "file_extension": ".py",
   "mimetype": "text/x-python",
   "name": "python",
   "nbconvert_exporter": "python",
   "pygments_lexer": "ipython3",
   "version": "3.11.9"
  }
 },
 "nbformat": 4,
 "nbformat_minor": 2
}
