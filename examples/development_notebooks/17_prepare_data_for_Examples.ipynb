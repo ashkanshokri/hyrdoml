{
 "cells": [
  {
   "cell_type": "code",
   "execution_count": 4,
   "metadata": {},
   "outputs": [
    {
     "name": "stdout",
     "output_type": "stream",
     "text": [
      "The autoreload extension is already loaded. To reload it, use:\n",
      "  %reload_ext autoreload\n"
     ]
    }
   ],
   "source": [
    "%load_ext autoreload\n",
    "%autoreload 2\n",
    "\n",
    "import pandas as pd\n",
    "from hydroml.utils import helpers as h\n",
    "\n",
    "\n",
    "catchment_id = '401208'\n",
    "df_camels = pd.read_csv('Z:/Data/CAMELS_AUS/preprocessed/'+catchment_id+'.csv', index_col=0, parse_dates=['date'])\n",
    "df_awra = pd.read_csv('L:/work/sho108/AWRA/historical/v1/AWRALv7/preprocessed_catchment_mean/qtot_3/'+catchment_id+'.csv', index_col=0, parse_dates=['time'])\n",
    "df = pd.concat([df_camels, df_awra], axis=1)\n",
    "df = df[['precipitation_AWAP', 'precipitation_SILO', 'et_morton_wet_SILO', 'qtot', 'streamflow_mmd']]\n",
    "df = df.loc['1975-01-01':'2014-12-30']\n",
    "df.to_csv(f'P:/work/sho108/hydroml/examples/notebooks/sample_data/{catchment_id}.csv')\n",
    "df_attributes = pd.read_csv('Z:/Data/CAMELS_AUS/CAMELS_AUS_Attributes&Indices_MasterTable.csv', index_col=0)\n",
    "df_attributes = df_attributes.loc[catchment_id,[\n",
    "                'catchment_area', 'mean_slope_pct', 'prop_forested', 'upsdist', 'strdensity',\n",
    "                'strahler', 'frac_snow', 'p_seasonality', 'p_mean', 'pet_mean', 'aridity',\n",
    "                'high_prec_freq', 'high_prec_dur'\n",
    "            ]]\n",
    "\n",
    "h.save_json(df_attributes.to_dict(), f'P:/work/sho108/hydroml/examples/notebooks/sample_data/{catchment_id}_attributes.json')\n",
    "\n"
   ]
  },
  {
   "cell_type": "code",
   "execution_count": 3,
   "metadata": {},
   "outputs": [
    {
     "data": {
      "text/plain": [
       "13"
      ]
     },
     "execution_count": 3,
     "metadata": {},
     "output_type": "execute_result"
    }
   ],
   "source": []
  },
  {
   "cell_type": "code",
   "execution_count": null,
   "metadata": {},
   "outputs": [],
   "source": []
  }
 ],
 "metadata": {
  "kernelspec": {
   "display_name": "hydroml-dFLAodHf-py3.11",
   "language": "python",
   "name": "python3"
  },
  "language_info": {
   "codemirror_mode": {
    "name": "ipython",
    "version": 3
   },
   "file_extension": ".py",
   "mimetype": "text/x-python",
   "name": "python",
   "nbconvert_exporter": "python",
   "pygments_lexer": "ipython3",
   "version": "3.11.9"
  }
 },
 "nbformat": 4,
 "nbformat_minor": 2
}
