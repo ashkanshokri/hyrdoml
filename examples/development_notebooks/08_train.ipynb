{
 "cells": [
  {
   "cell_type": "code",
   "execution_count": 57,
   "metadata": {},
   "outputs": [
    {
     "name": "stdout",
     "output_type": "stream",
     "text": [
      "The autoreload extension is already loaded. To reload it, use:\n",
      "  %reload_ext autoreload\n"
     ]
    },
    {
     "name": "stderr",
     "output_type": "stream",
     "text": [
      "                                                                       \r"
     ]
    },
    {
     "name": "stdout",
     "output_type": "stream",
     "text": [
      "valid data points per catchment {0: 3034, 1: 5114}\n"
     ]
    },
    {
     "name": "stderr",
     "output_type": "stream",
     "text": [
      "GPU available: False, used: False                                      \n",
      "TPU available: False, using: 0 TPU cores\n",
      "HPU available: False, using: 0 HPUs\n",
      "c:\\Users\\sho108\\AppData\\Local\\pypoetry\\Cache\\virtualenvs\\hydroml-dFLAodHf-py3.11\\Lib\\site-packages\\pytorch_lightning\\callbacks\\model_checkpoint.py:654: Checkpoint directory \\\\fs1-cbr.nexus.csiro.au\\{ev-ca-macq}\\work\\sho108\\hydroml\\results\\default\\241209121101_addd exists and is not empty.\n",
      "\n",
      "  | Name              | Type       | Params | Mode \n",
      "---------------------------------------------------------\n",
      "0 | static_embedding  | Linear     | 3      | train\n",
      "1 | dynamic_embedding | Linear     | 5      | train\n",
      "2 | lstm              | LSTM       | 15.4 K | train\n",
      "3 | dropout           | Identity   | 0      | train\n",
      "4 | head              | Sequential | 621    | train\n",
      "---------------------------------------------------------\n",
      "16.0 K    Trainable params\n",
      "0         Non-trainable params\n",
      "16.0 K    Total params\n",
      "0.064     Total estimated model params size (MB)\n",
      "9         Modules in train mode\n",
      "0         Modules in eval mode\n"
     ]
    },
    {
     "data": {
      "application/vnd.jupyter.widget-view+json": {
       "model_id": "a2e1d5f93d1c467193e541529f2d1182",
       "version_major": 2,
       "version_minor": 0
      },
      "text/plain": [
       "Sanity Checking: |          | 0/? [00:00<?, ?it/s]"
      ]
     },
     "metadata": {},
     "output_type": "display_data"
    },
    {
     "name": "stderr",
     "output_type": "stream",
     "text": [
      "c:\\Users\\sho108\\AppData\\Local\\pypoetry\\Cache\\virtualenvs\\hydroml-dFLAodHf-py3.11\\Lib\\site-packages\\pytorch_lightning\\trainer\\connectors\\data_connector.py:424: The 'val_dataloader' does not have many workers which may be a bottleneck. Consider increasing the value of the `num_workers` argument` to `num_workers=3` in the `DataLoader` to improve performance.\n",
      "c:\\Users\\sho108\\AppData\\Local\\pypoetry\\Cache\\virtualenvs\\hydroml-dFLAodHf-py3.11\\Lib\\site-packages\\pytorch_lightning\\trainer\\connectors\\data_connector.py:424: The 'train_dataloader' does not have many workers which may be a bottleneck. Consider increasing the value of the `num_workers` argument` to `num_workers=3` in the `DataLoader` to improve performance.\n",
      "c:\\Users\\sho108\\AppData\\Local\\pypoetry\\Cache\\virtualenvs\\hydroml-dFLAodHf-py3.11\\Lib\\site-packages\\pytorch_lightning\\loops\\fit_loop.py:298: The number of training batches (32) is smaller than the logging interval Trainer(log_every_n_steps=50). Set a lower value for log_every_n_steps if you want to see logs for the training epoch.\n"
     ]
    },
    {
     "data": {
      "application/vnd.jupyter.widget-view+json": {
       "model_id": "f17a532d07d843d48dccf6cc75860552",
       "version_major": 2,
       "version_minor": 0
      },
      "text/plain": [
       "Training: |          | 0/? [00:00<?, ?it/s]"
      ]
     },
     "metadata": {},
     "output_type": "display_data"
    },
    {
     "data": {
      "application/vnd.jupyter.widget-view+json": {
       "model_id": "45d9810999ab47d0b5762b7162b6db2a",
       "version_major": 2,
       "version_minor": 0
      },
      "text/plain": [
       "Validation: |          | 0/? [00:00<?, ?it/s]"
      ]
     },
     "metadata": {},
     "output_type": "display_data"
    },
    {
     "data": {
      "application/vnd.jupyter.widget-view+json": {
       "model_id": "95c66a8aa38b4d459c58a91d91f18878",
       "version_major": 2,
       "version_minor": 0
      },
      "text/plain": [
       "Validation: |          | 0/? [00:00<?, ?it/s]"
      ]
     },
     "metadata": {},
     "output_type": "display_data"
    },
    {
     "data": {
      "application/vnd.jupyter.widget-view+json": {
       "model_id": "33dfaaad453d4946a6b0c8cfb7224d91",
       "version_major": 2,
       "version_minor": 0
      },
      "text/plain": [
       "Validation: |          | 0/? [00:00<?, ?it/s]"
      ]
     },
     "metadata": {},
     "output_type": "display_data"
    },
    {
     "data": {
      "application/vnd.jupyter.widget-view+json": {
       "model_id": "d8d47528afe44486bba180a54af4eb7a",
       "version_major": 2,
       "version_minor": 0
      },
      "text/plain": [
       "Validation: |          | 0/? [00:00<?, ?it/s]"
      ]
     },
     "metadata": {},
     "output_type": "display_data"
    },
    {
     "data": {
      "application/vnd.jupyter.widget-view+json": {
       "model_id": "a0940762b4a34926978596acfedd1ae7",
       "version_major": 2,
       "version_minor": 0
      },
      "text/plain": [
       "Validation: |          | 0/? [00:00<?, ?it/s]"
      ]
     },
     "metadata": {},
     "output_type": "display_data"
    },
    {
     "data": {
      "application/vnd.jupyter.widget-view+json": {
       "model_id": "79e3f40846824049b3e1514a913f7211",
       "version_major": 2,
       "version_minor": 0
      },
      "text/plain": [
       "Validation: |          | 0/? [00:00<?, ?it/s]"
      ]
     },
     "metadata": {},
     "output_type": "display_data"
    },
    {
     "data": {
      "application/vnd.jupyter.widget-view+json": {
       "model_id": "7fc0064dbc2744afa9e1170bd04c5f88",
       "version_major": 2,
       "version_minor": 0
      },
      "text/plain": [
       "Validation: |          | 0/? [00:00<?, ?it/s]"
      ]
     },
     "metadata": {},
     "output_type": "display_data"
    },
    {
     "data": {
      "application/vnd.jupyter.widget-view+json": {
       "model_id": "e2b977777f18443d928c275af3003d5b",
       "version_major": 2,
       "version_minor": 0
      },
      "text/plain": [
       "Validation: |          | 0/? [00:00<?, ?it/s]"
      ]
     },
     "metadata": {},
     "output_type": "display_data"
    },
    {
     "data": {
      "application/vnd.jupyter.widget-view+json": {
       "model_id": "67b080cd5b53462d9d3cfe04c56de99f",
       "version_major": 2,
       "version_minor": 0
      },
      "text/plain": [
       "Validation: |          | 0/? [00:00<?, ?it/s]"
      ]
     },
     "metadata": {},
     "output_type": "display_data"
    },
    {
     "data": {
      "application/vnd.jupyter.widget-view+json": {
       "model_id": "1e767aed960d4b1495dad761013820d7",
       "version_major": 2,
       "version_minor": 0
      },
      "text/plain": [
       "Validation: |          | 0/? [00:00<?, ?it/s]"
      ]
     },
     "metadata": {},
     "output_type": "display_data"
    },
    {
     "name": "stderr",
     "output_type": "stream",
     "text": [
      "`Trainer.fit` stopped: `max_epochs=50` reached.\n"
     ]
    }
   ],
   "source": [
    "%load_ext autoreload\n",
    "%autoreload 2\n",
    "\n",
    "from hydroml.training.train import train\n",
    "from hydroml.config.config import Config, load_config\n",
    "config = Config(target_features=['streamflow_mmd'],\n",
    "                dynamic_features=['precipitation_AWAP', 'et_morton_wet_SILO'],\n",
    "                static_features=['catchment_area'],\n",
    "                evolving_static_features={'dynamic_feature_mean': {'dynamic_features': ['precipitation_AWAP']}}, \n",
    "                evolving_metadata={'observed_target_std': {'target_features': ['streamflow_mmd']}}, # can be set automatically\n",
    "                batch_size=256,\n",
    "                cal={'periods' : [['2000-01-01', '2017-01-01']], 'catchment_ids':['401009', '410730'], 'weights': [0.15, 0.85]},\n",
    "                val={'periods' : [['2000-01-01', '2017-01-01']], 'catchment_ids':[ '401009', '410730']}, #,\n",
    "                dataset_config={'basepath': 'Z://Data//CAMELS_AUS//preprocessed', 'static_feature_path': 'Z://Data//CAMELS_AUS//CAMELS_AUS_Attributes&Indices_MasterTable.csv', 'name':'camels_aus_v1'},\n",
    "                max_epochs=50,\n",
    "                lstm_hidden_size = 60\n",
    "                )\n",
    "\n",
    "current_path, version = train(config)"
   ]
  },
  {
   "cell_type": "code",
   "execution_count": 58,
   "metadata": {},
   "outputs": [
    {
     "name": "stderr",
     "output_type": "stream",
     "text": [
      "[autoreload of hydroml.models failed: Traceback (most recent call last):\n",
      "  File \"c:\\Users\\sho108\\AppData\\Local\\pypoetry\\Cache\\virtualenvs\\hydroml-dFLAodHf-py3.11\\Lib\\site-packages\\IPython\\extensions\\autoreload.py\", line 273, in check\n",
      "    superreload(m, reload, self.old_objects)\n",
      "  File \"c:\\Users\\sho108\\AppData\\Local\\pypoetry\\Cache\\virtualenvs\\hydroml-dFLAodHf-py3.11\\Lib\\site-packages\\IPython\\extensions\\autoreload.py\", line 471, in superreload\n",
      "    module = reload(module)\n",
      "             ^^^^^^^^^^^^^^\n",
      "  File \"C:\\Program Files\\Python311\\Lib\\importlib\\__init__.py\", line 169, in reload\n",
      "    _bootstrap._exec(spec, module)\n",
      "  File \"<frozen importlib._bootstrap>\", line 621, in _exec\n",
      "  File \"<frozen importlib._bootstrap_external>\", line 936, in exec_module\n",
      "  File \"<frozen importlib._bootstrap_external>\", line 1074, in get_code\n",
      "  File \"<frozen importlib._bootstrap_external>\", line 1004, in source_to_code\n",
      "  File \"<frozen importlib._bootstrap>\", line 241, in _call_with_frames_removed\n",
      "  File \"\\\\fs1-cbr.nexus.csiro.au\\{ev-ca-macq}\\work\\sho108\\hydroml\\hydroml\\models\\__init__.py\", line 9\n",
      "    __all__ = ['HydroLSTM']\n",
      "    ^^^^^^^\n",
      "IndentationError: expected an indented block after function definition on line 7\n",
      "]\n",
      "c:\\Users\\sho108\\AppData\\Local\\pypoetry\\Cache\\virtualenvs\\hydroml-dFLAodHf-py3.11\\Lib\\site-packages\\xarray\\core\\computation.py:818: RuntimeWarning: invalid value encountered in sqrt\n",
      "  result_data = func(*input_data)\n"
     ]
    }
   ],
   "source": [
    "from hydroml.models.get_model_from_path import get_model_from_path\n",
    "from hydroml.data.camels_aus_ds import get_dataset\n",
    "from hydroml.prediction.prediction import process_and_convert_dataloader_to_xarray\n",
    "from hydroml.evaluation.metrics import get_metrics\n",
    "from pathlib import Path\n",
    "from hydroml.config.config import Config, load_config\n",
    "#version = '241209094143_3fdb'\n",
    "#current_path = Path('P://work//sho108//hydroml//results//default')\n",
    "model = get_model_from_path(current_path/version)\n",
    "config = load_config(current_path/version/'config.yaml')\n",
    "dataset = get_dataset(config, 'val', is_train=False)\n",
    "dataloader = dataset.to_dataloader()\n",
    "# make predictions for all catchments\n",
    "ds = process_and_convert_dataloader_to_xarray(dataloader, model, config)\n",
    "metrics = get_metrics(ds)\n",
    "\n",
    "  "
   ]
  },
  {
   "cell_type": "code",
   "execution_count": 59,
   "metadata": {},
   "outputs": [
    {
     "data": {
      "text/html": [
       "<div>\n",
       "<style scoped>\n",
       "    .dataframe tbody tr th:only-of-type {\n",
       "        vertical-align: middle;\n",
       "    }\n",
       "\n",
       "    .dataframe tbody tr th {\n",
       "        vertical-align: top;\n",
       "    }\n",
       "\n",
       "    .dataframe thead th {\n",
       "        text-align: right;\n",
       "    }\n",
       "</style>\n",
       "<table border=\"1\" class=\"dataframe\">\n",
       "  <thead>\n",
       "    <tr style=\"text-align: right;\">\n",
       "      <th></th>\n",
       "      <th></th>\n",
       "      <th></th>\n",
       "      <th>nse</th>\n",
       "      <th>kge</th>\n",
       "      <th>rmse</th>\n",
       "      <th>bias</th>\n",
       "      <th>relative_bias</th>\n",
       "      <th>absolute_bias</th>\n",
       "      <th>nse_sqrt</th>\n",
       "    </tr>\n",
       "    <tr>\n",
       "      <th>catchment_id</th>\n",
       "      <th>lead_time</th>\n",
       "      <th>feature</th>\n",
       "      <th></th>\n",
       "      <th></th>\n",
       "      <th></th>\n",
       "      <th></th>\n",
       "      <th></th>\n",
       "      <th></th>\n",
       "      <th></th>\n",
       "    </tr>\n",
       "  </thead>\n",
       "  <tbody>\n",
       "    <tr>\n",
       "      <th>401009</th>\n",
       "      <th>0</th>\n",
       "      <th>0</th>\n",
       "      <td>0.462142</td>\n",
       "      <td>0.697217</td>\n",
       "      <td>0.370089</td>\n",
       "      <td>1.103762</td>\n",
       "      <td>0.103762</td>\n",
       "      <td>1.103762</td>\n",
       "      <td>0.663577</td>\n",
       "    </tr>\n",
       "    <tr>\n",
       "      <th>410730</th>\n",
       "      <th>0</th>\n",
       "      <th>0</th>\n",
       "      <td>0.960589</td>\n",
       "      <td>0.953696</td>\n",
       "      <td>0.213317</td>\n",
       "      <td>1.041807</td>\n",
       "      <td>0.041807</td>\n",
       "      <td>1.041807</td>\n",
       "      <td>0.938730</td>\n",
       "    </tr>\n",
       "  </tbody>\n",
       "</table>\n",
       "</div>"
      ],
      "text/plain": [
       "                                     nse       kge      rmse      bias  \\\n",
       "catchment_id lead_time feature                                           \n",
       "401009       0         0        0.462142  0.697217  0.370089  1.103762   \n",
       "410730       0         0        0.960589  0.953696  0.213317  1.041807   \n",
       "\n",
       "                                relative_bias  absolute_bias  nse_sqrt  \n",
       "catchment_id lead_time feature                                          \n",
       "401009       0         0             0.103762       1.103762  0.663577  \n",
       "410730       0         0             0.041807       1.041807  0.938730  "
      ]
     },
     "execution_count": 59,
     "metadata": {},
     "output_type": "execute_result"
    }
   ],
   "source": [
    "metrics.to_dataframe()"
   ]
  },
  {
   "cell_type": "code",
   "execution_count": 60,
   "metadata": {},
   "outputs": [
    {
     "data": {
      "text/plain": [
       "[<matplotlib.lines.Line2D at 0x1f2909bf890>]"
      ]
     },
     "execution_count": 60,
     "metadata": {},
     "output_type": "execute_result"
    },
    {
     "data": {
      "image/png": "[encoded data removed]",
      "text/plain": [
       "<Figure size 640x480 with 1 Axes>"
      ]
     },
     "metadata": {},
     "output_type": "display_data"
    }
   ],
   "source": [
    "ds.sel(catchment_id='401009').prediction.plot()\n",
    "ds.sel(catchment_id='401009').y.plot()\n"
   ]
  },
  {
   "cell_type": "code",
   "execution_count": 61,
   "metadata": {},
   "outputs": [
    {
     "data": {
      "text/plain": [
       "[<matplotlib.lines.Line2D at 0x1f295243b50>]"
      ]
     },
     "execution_count": 61,
     "metadata": {},
     "output_type": "execute_result"
    },
    {
     "data": {
      "image/png": "[encoded data removed]",
      "text/plain": [
       "<Figure size 640x480 with 1 Axes>"
      ]
     },
     "metadata": {},
     "output_type": "display_data"
    }
   ],
   "source": [
    "ds.sel(catchment_id='410730').prediction.plot()\n",
    "ds.sel(catchment_id='410730').y.plot()"
   ]
  },
  {
   "cell_type": "code",
   "execution_count": null,
   "metadata": {},
   "outputs": [],
   "source": []
  }
 ],
 "metadata": {
  "kernelspec": {
   "display_name": "hydroml-dFLAodHf-py3.11",
   "language": "python",
   "name": "python3"
  },
  "language_info": {
   "codemirror_mode": {
    "name": "ipython",
    "version": 3
   },
   "file_extension": ".py",
   "mimetype": "text/x-python",
   "name": "python",
   "nbconvert_exporter": "python",
   "pygments_lexer": "ipython3",
   "version": "3.11.9"
  }
 },
 "nbformat": 4,
 "nbformat_minor": 2
}
