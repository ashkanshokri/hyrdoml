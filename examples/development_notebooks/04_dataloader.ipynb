{
 "cells": [
  {
   "cell_type": "code",
   "execution_count": 1,
   "metadata": {},
   "outputs": [
    {
     "name": "stdout",
     "output_type": "stream",
     "text": [
      "dropping catchments due to all nans: [1]\n",
      "Transforming data: calculating transform parameters and saving to P:\\work\\sho108\\hydroml\\results\\default\\241213173536_e073\\params.yaml\n",
      "batch size = 512, seq len = 365\n"
     ]
    },
    {
     "name": "stderr",
     "output_type": "stream",
     "text": [
      "c:\\Users\\sho108\\AppData\\Local\\pypoetry\\Cache\\virtualenvs\\hydroml-dFLAodHf-py3.11\\Lib\\site-packages\\torch\\utils\\data\\dataloader.py:617: UserWarning: This DataLoader will create 12 worker processes in total. Our suggested max number of worker in current system is 10 (`cpuset` is not taken into account), which is smaller than what this DataLoader is going to create. Please be aware that excessive worker creation might get DataLoader running slow or even freeze, lower the worker number to avoid potential slowness/freeze if necessary.\n",
      "  warnings.warn(\n"
     ]
    }
   ],
   "source": [
    "%load_ext autoreload\n",
    "%autoreload 2\n",
    "\n",
    "from hydroml.config.config import Config\n",
    "\n",
    "from lib import make_dataset\n",
    "\n",
    "config = Config(device='cpu',\n",
    "                target_features=['q_mm'],\n",
    "                dynamic_features=['t_max_c', 't_min_c', 't_mean_c', 'precip_mm'],\n",
    "                static_features=[],\n",
    "                evolving_static_features={'dynamic_feature_mean': {'dynamic_features': ['precip_mm', 't_mean_c']}},\n",
    "                cal={'periods' : [['2011-01-01', '2017-01-01']], 'catchment_ids':[1,2,3]},\n",
    "                evolving_metadata={'observed_target_std': {'target_features': ['q_mm']}}\n",
    "                )\n",
    "config.set_new_version_name()\n",
    "dataset = make_dataset(config)\n",
    "\n",
    "\n",
    "# test the dataloader\n",
    "import torch\n",
    "print(f'batch size = {config.batch_size}, seq len = {dataset.seqlen}')\n",
    "for batch in dataset.to_dataloader():\n",
    "    print('=-'*13)\n",
    "    print(f'batch keys:         {batch.keys()}')\n",
    "    for k in batch.keys():\n",
    "        print('-'*13)\n",
    "        if isinstance(batch[k], torch.Tensor):\n",
    "            print(f'{k}: {batch[k].shape}')\n",
    "        elif isinstance(batch[k], dict):\n",
    "            print(f'{k} <dict>, keys = {batch[k].keys()}')\n",
    "            for kk in batch[k].keys():\n",
    "                print(f'{k}[\"{kk}\"]: {batch[k][kk].shape}')\n",
    "        elif isinstance(batch[k], list):\n",
    "            print(f'{k} <list>: len = {len(batch[k])}')\n",
    "            print(f'{k}: {batch[k]}')\n",
    "        else:\n",
    "            print(f'{k} <{type(batch[k])}>')\n",
    "        \n",
    "    \n",
    "    break\n"
   ]
  },
  {
   "cell_type": "code",
   "execution_count": 3,
   "metadata": {},
   "outputs": [
    {
     "name": "stdout",
     "output_type": "stream",
     "text": [
      "batch size = 512, seq len = 365\n"
     ]
    },
    {
     "name": "stderr",
     "output_type": "stream",
     "text": [
      "c:\\Users\\sho108\\AppData\\Local\\pypoetry\\Cache\\virtualenvs\\hydroml-dFLAodHf-py3.11\\Lib\\site-packages\\torch\\utils\\data\\dataloader.py:617: UserWarning: This DataLoader will create 12 worker processes in total. Our suggested max number of worker in current system is 10 (`cpuset` is not taken into account), which is smaller than what this DataLoader is going to create. Please be aware that excessive worker creation might get DataLoader running slow or even freeze, lower the worker number to avoid potential slowness/freeze if necessary.\n",
      "  warnings.warn(\n"
     ]
    }
   ],
   "source": []
  },
  {
   "cell_type": "code",
   "execution_count": null,
   "metadata": {},
   "outputs": [],
   "source": []
  }
 ],
 "metadata": {
  "kernelspec": {
   "display_name": "hydroml-dFLAodHf-py3.11",
   "language": "python",
   "name": "python3"
  },
  "language_info": {
   "codemirror_mode": {
    "name": "ipython",
    "version": 3
   },
   "file_extension": ".py",
   "mimetype": "text/x-python",
   "name": "python",
   "nbconvert_exporter": "python",
   "pygments_lexer": "ipython3",
   "version": "3.11.9"
  }
 },
 "nbformat": 4,
 "nbformat_minor": 2
}
