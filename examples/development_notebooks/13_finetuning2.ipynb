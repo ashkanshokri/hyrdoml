{
 "cells": [
  {
   "cell_type": "code",
   "execution_count": 23,
   "metadata": {},
   "outputs": [
    {
     "name": "stdout",
     "output_type": "stream",
     "text": [
      "The autoreload extension is already loaded. To reload it, use:\n",
      "  %reload_ext autoreload\n"
     ]
    }
   ],
   "source": [
    "%load_ext autoreload\n",
    "%autoreload 2\n",
    "\n",
    "from hydroml.training.train import train\n",
    "from hydroml.config.config import Config, load_config\n",
    "import hydroml.training.finetune as ft\n",
    "from hydroml.models import get_model_from_path\n",
    "from hydroml.data.camels_aus_ds import get_dataset\n",
    "from hydroml.prediction.prediction import process_and_convert_dataloader_to_xarray\n",
    "from hydroml.models.get_model_from_path import get_model_from_path\n",
    "from hydroml.evaluation.metrics import get_metrics\n",
    "from hydroml.training.trainer import get_trainer\n",
    "\n"
   ]
  },
  {
   "cell_type": "code",
   "execution_count": 29,
   "metadata": {},
   "outputs": [
    {
     "name": "stderr",
     "output_type": "stream",
     "text": [
      "                                                                       \r"
     ]
    },
    {
     "name": "stdout",
     "output_type": "stream",
     "text": [
      "Transforming data: loading transform parameters from P:\\work\\sho108\\hydroml\\results_2\\default\\params.yaml\n"
     ]
    },
    {
     "name": "stderr",
     "output_type": "stream",
     "text": [
      "                                                                       \r"
     ]
    },
    {
     "name": "stdout",
     "output_type": "stream",
     "text": [
      "Transforming data: loading transform parameters from P:\\work\\sho108\\hydroml\\results_2\\default\\params.yaml\n"
     ]
    },
    {
     "name": "stderr",
     "output_type": "stream",
     "text": [
      "                                                                       \r"
     ]
    },
    {
     "name": "stdout",
     "output_type": "stream",
     "text": [
      "Transforming data: loading transform parameters from P:\\work\\sho108\\hydroml\\results_2\\default\\params.yaml\n"
     ]
    },
    {
     "name": "stderr",
     "output_type": "stream",
     "text": [
      "                                                                       \r"
     ]
    },
    {
     "name": "stdout",
     "output_type": "stream",
     "text": [
      "Transforming data: loading transform parameters from P:\\work\\sho108\\hydroml\\results_2\\default\\params.yaml\n"
     ]
    }
   ],
   "source": [
    "with open('P://work//sho108//hydroml//workflows//basins.txt', 'r') as f:\n",
    "    basins = f.read().splitlines()\n",
    "\n",
    "# '410730'\n",
    "config = Config(cal={'periods' : [['1985-01-01', '2014-01-01']], 'catchment_ids':['410730']}, #, 'weights': [1, 1, 1, 1, 1, 1, 1, 1, 1]\n",
    "                val={'periods' : [['1985-01-01', '2014-01-01']], 'catchment_ids':['410730']}, #,\n",
    "                max_epochs=10,\n",
    "                lstm_hidden_size=64,\n",
    "                batch_size=128,\n",
    "                initial_forget_bias=0,\n",
    "                parent_path = 'P://work//sho108//hydroml//results_2',\n",
    "                lr=1e-5\n",
    "                \n",
    "                )\n",
    "\n",
    "dataset_val_train = get_dataset(config, 'val', is_train=True)\n",
    "dataloader_val_train = dataset_val_train.to_dataloader()\n",
    "\n",
    "dataset_cal_train = get_dataset(config, 'cal', is_train=True)\n",
    "dataloader_cal_train = dataset_cal_train.to_dataloader()\n",
    "\n",
    "dataset_val_test = get_dataset(config, 'val', is_train=False)\n",
    "dataloader_val_test = dataset_val_test.to_dataloader()\n",
    "\n",
    "dataset_cal_test = get_dataset(config, 'cal', is_train=False)\n",
    "dataloader_cal_test = dataset_cal_test.to_dataloader()\n"
   ]
  },
  {
   "cell_type": "code",
   "execution_count": 30,
   "metadata": {},
   "outputs": [
    {
     "name": "stderr",
     "output_type": "stream",
     "text": [
      "                                                                       \r"
     ]
    },
    {
     "name": "stdout",
     "output_type": "stream",
     "text": [
      "Transforming data: loading transform parameters from P:\\work\\sho108\\hydroml\\results_2\\default\\params.yaml\n",
      "valid data points per catchment {0: 10441}\n"
     ]
    },
    {
     "name": "stderr",
     "output_type": "stream",
     "text": [
      "GPU available: False, used: False                                      \n",
      "TPU available: False, using: 0 TPU cores\n",
      "HPU available: False, using: 0 HPUs\n"
     ]
    },
    {
     "name": "stdout",
     "output_type": "stream",
     "text": [
      "Transforming data: loading transform parameters from P:\\work\\sho108\\hydroml\\results_2\\default\\params.yaml\n"
     ]
    },
    {
     "name": "stderr",
     "output_type": "stream",
     "text": [
      "c:\\Users\\sho108\\AppData\\Local\\pypoetry\\Cache\\virtualenvs\\hydroml-dFLAodHf-py3.11\\Lib\\site-packages\\pytorch_lightning\\callbacks\\model_checkpoint.py:654: Checkpoint directory \\\\fs1-cbr.nexus.csiro.au\\{ev-ca-macq}\\work\\sho108\\hydroml\\results_2\\default\\241210133745_d65e exists and is not empty.\n",
      "\n",
      "  | Name              | Type       | Params | Mode \n",
      "---------------------------------------------------------\n",
      "0 | static_embedding  | Linear     | 15     | train\n",
      "1 | dynamic_embedding | Linear     | 5      | train\n",
      "2 | lstm              | LSTM       | 17.4 K | train\n",
      "3 | dropout           | Identity   | 0      | train\n",
      "4 | head              | Sequential | 661    | train\n",
      "---------------------------------------------------------\n",
      "18.1 K    Trainable params\n",
      "0         Non-trainable params\n",
      "18.1 K    Total params\n",
      "0.072     Total estimated model params size (MB)\n",
      "9         Modules in train mode\n",
      "0         Modules in eval mode\n"
     ]
    },
    {
     "data": {
      "application/vnd.jupyter.widget-view+json": {
       "model_id": "f684fb81a48945698dfd711125660a1c",
       "version_major": 2,
       "version_minor": 0
      },
      "text/plain": [
       "Sanity Checking: |          | 0/? [00:00<?, ?it/s]"
      ]
     },
     "metadata": {},
     "output_type": "display_data"
    },
    {
     "name": "stderr",
     "output_type": "stream",
     "text": [
      "c:\\Users\\sho108\\AppData\\Local\\pypoetry\\Cache\\virtualenvs\\hydroml-dFLAodHf-py3.11\\Lib\\site-packages\\pytorch_lightning\\trainer\\connectors\\data_connector.py:424: The 'val_dataloader' does not have many workers which may be a bottleneck. Consider increasing the value of the `num_workers` argument` to `num_workers=9` in the `DataLoader` to improve performance.\n",
      "c:\\Users\\sho108\\AppData\\Local\\pypoetry\\Cache\\virtualenvs\\hydroml-dFLAodHf-py3.11\\Lib\\site-packages\\pytorch_lightning\\trainer\\connectors\\data_connector.py:424: The 'train_dataloader' does not have many workers which may be a bottleneck. Consider increasing the value of the `num_workers` argument` to `num_workers=9` in the `DataLoader` to improve performance.\n"
     ]
    },
    {
     "data": {
      "application/vnd.jupyter.widget-view+json": {
       "model_id": "5ba4b1037bb145af9219a2b0c3fc68cf",
       "version_major": 2,
       "version_minor": 0
      },
      "text/plain": [
       "Training: |          | 0/? [00:00<?, ?it/s]"
      ]
     },
     "metadata": {},
     "output_type": "display_data"
    },
    {
     "data": {
      "application/vnd.jupyter.widget-view+json": {
       "model_id": "1ad3498f4ab84b968f72162ac5d45f8c",
       "version_major": 2,
       "version_minor": 0
      },
      "text/plain": [
       "Validation: |          | 0/? [00:00<?, ?it/s]"
      ]
     },
     "metadata": {},
     "output_type": "display_data"
    },
    {
     "data": {
      "application/vnd.jupyter.widget-view+json": {
       "model_id": "897ad2598bbc4934b87d64c15d288801",
       "version_major": 2,
       "version_minor": 0
      },
      "text/plain": [
       "Validation: |          | 0/? [00:00<?, ?it/s]"
      ]
     },
     "metadata": {},
     "output_type": "display_data"
    },
    {
     "name": "stderr",
     "output_type": "stream",
     "text": [
      "`Trainer.fit` stopped: `max_epochs=10` reached.\n"
     ]
    }
   ],
   "source": [
    "current_path, version = train(config)"
   ]
  },
  {
   "cell_type": "code",
   "execution_count": 31,
   "metadata": {},
   "outputs": [
    {
     "name": "stdout",
     "output_type": "stream",
     "text": [
      "first pass:\n"
     ]
    },
    {
     "name": "stderr",
     "output_type": "stream",
     "text": [
      "c:\\Users\\sho108\\AppData\\Local\\pypoetry\\Cache\\virtualenvs\\hydroml-dFLAodHf-py3.11\\Lib\\site-packages\\xarray\\core\\computation.py:818: RuntimeWarning: invalid value encountered in sqrt\n",
      "  result_data = func(*input_data)\n"
     ]
    },
    {
     "data": {
      "text/html": [
       "<div>\n",
       "<style scoped>\n",
       "    .dataframe tbody tr th:only-of-type {\n",
       "        vertical-align: middle;\n",
       "    }\n",
       "\n",
       "    .dataframe tbody tr th {\n",
       "        vertical-align: top;\n",
       "    }\n",
       "\n",
       "    .dataframe thead th {\n",
       "        text-align: right;\n",
       "    }\n",
       "</style>\n",
       "<table border=\"1\" class=\"dataframe\">\n",
       "  <thead>\n",
       "    <tr style=\"text-align: right;\">\n",
       "      <th></th>\n",
       "      <th></th>\n",
       "      <th></th>\n",
       "      <th>nse</th>\n",
       "      <th>kge</th>\n",
       "      <th>rmse</th>\n",
       "      <th>bias</th>\n",
       "      <th>relative_bias</th>\n",
       "      <th>absolute_bias</th>\n",
       "      <th>nse_sqrt</th>\n",
       "    </tr>\n",
       "    <tr>\n",
       "      <th>catchment_id</th>\n",
       "      <th>lead_time</th>\n",
       "      <th>feature</th>\n",
       "      <th></th>\n",
       "      <th></th>\n",
       "      <th></th>\n",
       "      <th></th>\n",
       "      <th></th>\n",
       "      <th></th>\n",
       "      <th></th>\n",
       "    </tr>\n",
       "  </thead>\n",
       "  <tbody>\n",
       "    <tr>\n",
       "      <th>410730</th>\n",
       "      <th>0</th>\n",
       "      <th>0</th>\n",
       "      <td>0.257901</td>\n",
       "      <td>0.239558</td>\n",
       "      <td>0.96454</td>\n",
       "      <td>0.961069</td>\n",
       "      <td>-0.038931</td>\n",
       "      <td>0.961069</td>\n",
       "      <td>0.372921</td>\n",
       "    </tr>\n",
       "  </tbody>\n",
       "</table>\n",
       "</div>"
      ],
      "text/plain": [
       "                                     nse       kge     rmse      bias  \\\n",
       "catchment_id lead_time feature                                          \n",
       "410730       0         0        0.257901  0.239558  0.96454  0.961069   \n",
       "\n",
       "                                relative_bias  absolute_bias  nse_sqrt  \n",
       "catchment_id lead_time feature                                          \n",
       "410730       0         0            -0.038931       0.961069  0.372921  "
      ]
     },
     "execution_count": 31,
     "metadata": {},
     "output_type": "execute_result"
    }
   ],
   "source": [
    "print('first pass:')\n",
    "model = get_model_from_path(current_path/version)\n",
    "\n",
    "ds = process_and_convert_dataloader_to_xarray(dataloader_cal_train, model, config)\n",
    "m = get_metrics(ds)\n",
    "m.to_dataframe()"
   ]
  },
  {
   "cell_type": "code",
   "execution_count": 36,
   "metadata": {},
   "outputs": [
    {
     "data": {
      "text/plain": [
       "('2.2.3', '1.26.4', '2024.11.0', '2.18.0')"
      ]
     },
     "execution_count": 36,
     "metadata": {},
     "output_type": "execute_result"
    }
   ],
   "source": [
    "import pandas as pd\n",
    "import numpy as np\n",
    "import xarray as xr\n",
    "import tensorboard\n",
    "pd.__version__, np.__version__, xr.__version__, tensorboard.__version__\n"
   ]
  },
  {
   "cell_type": "code",
   "execution_count": 32,
   "metadata": {},
   "outputs": [
    {
     "name": "stderr",
     "output_type": "stream",
     "text": [
      "GPU available: False, used: False\n",
      "TPU available: False, using: 0 TPU cores\n",
      "HPU available: False, using: 0 HPUs\n"
     ]
    },
    {
     "name": "stdout",
     "output_type": "stream",
     "text": [
      "second pass:\n"
     ]
    },
    {
     "name": "stderr",
     "output_type": "stream",
     "text": [
      "c:\\Users\\sho108\\AppData\\Local\\pypoetry\\Cache\\virtualenvs\\hydroml-dFLAodHf-py3.11\\Lib\\site-packages\\pytorch_lightning\\trainer\\configuration_validator.py:70: You defined a `validation_step` but have no `val_dataloader`. Skipping val loop.\n",
      "c:\\Users\\sho108\\AppData\\Local\\pypoetry\\Cache\\virtualenvs\\hydroml-dFLAodHf-py3.11\\Lib\\site-packages\\pytorch_lightning\\callbacks\\model_checkpoint.py:654: Checkpoint directory \\\\fs1-cbr.nexus.csiro.au\\{ev-ca-macq}\\work\\sho108\\hydroml\\results_2\\default\\241210133745_d65e exists and is not empty.\n",
      "\n",
      "  | Name              | Type       | Params | Mode \n",
      "---------------------------------------------------------\n",
      "0 | static_embedding  | Linear     | 15     | train\n",
      "1 | dynamic_embedding | Linear     | 5      | train\n",
      "2 | lstm              | LSTM       | 17.4 K | train\n",
      "3 | dropout           | Identity   | 0      | train\n",
      "4 | head              | Sequential | 661    | train\n",
      "---------------------------------------------------------\n",
      "18.1 K    Trainable params\n",
      "0         Non-trainable params\n",
      "18.1 K    Total params\n",
      "0.072     Total estimated model params size (MB)\n",
      "9         Modules in train mode\n",
      "0         Modules in eval mode\n",
      "c:\\Users\\sho108\\AppData\\Local\\pypoetry\\Cache\\virtualenvs\\hydroml-dFLAodHf-py3.11\\Lib\\site-packages\\pytorch_lightning\\trainer\\connectors\\data_connector.py:424: The 'train_dataloader' does not have many workers which may be a bottleneck. Consider increasing the value of the `num_workers` argument` to `num_workers=9` in the `DataLoader` to improve performance.\n"
     ]
    },
    {
     "data": {
      "application/vnd.jupyter.widget-view+json": {
       "model_id": "b62a66c58911452088339c6d4687fb51",
       "version_major": 2,
       "version_minor": 0
      },
      "text/plain": [
       "Training: |          | 0/? [00:00<?, ?it/s]"
      ]
     },
     "metadata": {},
     "output_type": "display_data"
    },
    {
     "name": "stderr",
     "output_type": "stream",
     "text": [
      "`Trainer.fit` stopped: `max_epochs=10` reached.\n",
      "c:\\Users\\sho108\\AppData\\Local\\pypoetry\\Cache\\virtualenvs\\hydroml-dFLAodHf-py3.11\\Lib\\site-packages\\xarray\\core\\computation.py:818: RuntimeWarning: invalid value encountered in sqrt\n",
      "  result_data = func(*input_data)\n"
     ]
    },
    {
     "data": {
      "text/html": [
       "<div>\n",
       "<style scoped>\n",
       "    .dataframe tbody tr th:only-of-type {\n",
       "        vertical-align: middle;\n",
       "    }\n",
       "\n",
       "    .dataframe tbody tr th {\n",
       "        vertical-align: top;\n",
       "    }\n",
       "\n",
       "    .dataframe thead th {\n",
       "        text-align: right;\n",
       "    }\n",
       "</style>\n",
       "<table border=\"1\" class=\"dataframe\">\n",
       "  <thead>\n",
       "    <tr style=\"text-align: right;\">\n",
       "      <th></th>\n",
       "      <th></th>\n",
       "      <th></th>\n",
       "      <th>nse</th>\n",
       "      <th>kge</th>\n",
       "      <th>rmse</th>\n",
       "      <th>bias</th>\n",
       "      <th>relative_bias</th>\n",
       "      <th>absolute_bias</th>\n",
       "      <th>nse_sqrt</th>\n",
       "    </tr>\n",
       "    <tr>\n",
       "      <th>catchment_id</th>\n",
       "      <th>lead_time</th>\n",
       "      <th>feature</th>\n",
       "      <th></th>\n",
       "      <th></th>\n",
       "      <th></th>\n",
       "      <th></th>\n",
       "      <th></th>\n",
       "      <th></th>\n",
       "      <th></th>\n",
       "    </tr>\n",
       "  </thead>\n",
       "  <tbody>\n",
       "    <tr>\n",
       "      <th>410730</th>\n",
       "      <th>0</th>\n",
       "      <th>0</th>\n",
       "      <td>0.259863</td>\n",
       "      <td>0.270233</td>\n",
       "      <td>0.963264</td>\n",
       "      <td>0.905444</td>\n",
       "      <td>-0.094556</td>\n",
       "      <td>0.905444</td>\n",
       "      <td>0.365115</td>\n",
       "    </tr>\n",
       "  </tbody>\n",
       "</table>\n",
       "</div>"
      ],
      "text/plain": [
       "                                     nse       kge      rmse      bias  \\\n",
       "catchment_id lead_time feature                                           \n",
       "410730       0         0        0.259863  0.270233  0.963264  0.905444   \n",
       "\n",
       "                                relative_bias  absolute_bias  nse_sqrt  \n",
       "catchment_id lead_time feature                                          \n",
       "410730       0         0            -0.094556       0.905444  0.365115  "
      ]
     },
     "execution_count": 32,
     "metadata": {},
     "output_type": "execute_result"
    }
   ],
   "source": [
    "print('second pass:')\n",
    "trainer = get_trainer(config)\n",
    "trainer.fit(model, dataloader_cal_train)\n",
    "\n",
    "\n",
    "model = get_model_from_path(current_path/version, check_point='last-v1')\n",
    "\n",
    "ds = process_and_convert_dataloader_to_xarray(dataloader_cal_train, model, config)\n",
    "m = get_metrics(ds)\n",
    "m.to_dataframe()"
   ]
  },
  {
   "cell_type": "code",
   "execution_count": 33,
   "metadata": {},
   "outputs": [
    {
     "name": "stderr",
     "output_type": "stream",
     "text": [
      "GPU available: False, used: False\n",
      "TPU available: False, using: 0 TPU cores\n",
      "HPU available: False, using: 0 HPUs\n",
      "c:\\Users\\sho108\\AppData\\Local\\pypoetry\\Cache\\virtualenvs\\hydroml-dFLAodHf-py3.11\\Lib\\site-packages\\pytorch_lightning\\trainer\\configuration_validator.py:70: You defined a `validation_step` but have no `val_dataloader`. Skipping val loop.\n",
      "c:\\Users\\sho108\\AppData\\Local\\pypoetry\\Cache\\virtualenvs\\hydroml-dFLAodHf-py3.11\\Lib\\site-packages\\pytorch_lightning\\callbacks\\model_checkpoint.py:654: Checkpoint directory \\\\fs1-cbr.nexus.csiro.au\\{ev-ca-macq}\\work\\sho108\\hydroml\\results_2\\default\\241210133745_d65e exists and is not empty.\n",
      "\n",
      "  | Name              | Type       | Params | Mode \n",
      "---------------------------------------------------------\n",
      "0 | static_embedding  | Linear     | 15     | train\n",
      "1 | dynamic_embedding | Linear     | 5      | train\n",
      "2 | lstm              | LSTM       | 17.4 K | train\n",
      "3 | dropout           | Identity   | 0      | train\n",
      "4 | head              | Sequential | 661    | train\n",
      "---------------------------------------------------------\n",
      "18.1 K    Trainable params\n",
      "0         Non-trainable params\n",
      "18.1 K    Total params\n",
      "0.072     Total estimated model params size (MB)\n",
      "9         Modules in train mode\n",
      "0         Modules in eval mode\n"
     ]
    },
    {
     "name": "stdout",
     "output_type": "stream",
     "text": [
      "third pass:\n"
     ]
    },
    {
     "name": "stderr",
     "output_type": "stream",
     "text": [
      "c:\\Users\\sho108\\AppData\\Local\\pypoetry\\Cache\\virtualenvs\\hydroml-dFLAodHf-py3.11\\Lib\\site-packages\\pytorch_lightning\\trainer\\connectors\\data_connector.py:424: The 'train_dataloader' does not have many workers which may be a bottleneck. Consider increasing the value of the `num_workers` argument` to `num_workers=9` in the `DataLoader` to improve performance.\n"
     ]
    },
    {
     "data": {
      "application/vnd.jupyter.widget-view+json": {
       "model_id": "194abde443b240e68c5b62334380b5a3",
       "version_major": 2,
       "version_minor": 0
      },
      "text/plain": [
       "Training: |          | 0/? [00:00<?, ?it/s]"
      ]
     },
     "metadata": {},
     "output_type": "display_data"
    },
    {
     "name": "stderr",
     "output_type": "stream",
     "text": [
      "`Trainer.fit` stopped: `max_epochs=10` reached.\n",
      "c:\\Users\\sho108\\AppData\\Local\\pypoetry\\Cache\\virtualenvs\\hydroml-dFLAodHf-py3.11\\Lib\\site-packages\\xarray\\core\\computation.py:818: RuntimeWarning: invalid value encountered in sqrt\n",
      "  result_data = func(*input_data)\n"
     ]
    },
    {
     "data": {
      "text/html": [
       "<div>\n",
       "<style scoped>\n",
       "    .dataframe tbody tr th:only-of-type {\n",
       "        vertical-align: middle;\n",
       "    }\n",
       "\n",
       "    .dataframe tbody tr th {\n",
       "        vertical-align: top;\n",
       "    }\n",
       "\n",
       "    .dataframe thead th {\n",
       "        text-align: right;\n",
       "    }\n",
       "</style>\n",
       "<table border=\"1\" class=\"dataframe\">\n",
       "  <thead>\n",
       "    <tr style=\"text-align: right;\">\n",
       "      <th></th>\n",
       "      <th></th>\n",
       "      <th></th>\n",
       "      <th>nse</th>\n",
       "      <th>kge</th>\n",
       "      <th>rmse</th>\n",
       "      <th>bias</th>\n",
       "      <th>relative_bias</th>\n",
       "      <th>absolute_bias</th>\n",
       "      <th>nse_sqrt</th>\n",
       "    </tr>\n",
       "    <tr>\n",
       "      <th>catchment_id</th>\n",
       "      <th>lead_time</th>\n",
       "      <th>feature</th>\n",
       "      <th></th>\n",
       "      <th></th>\n",
       "      <th></th>\n",
       "      <th></th>\n",
       "      <th></th>\n",
       "      <th></th>\n",
       "      <th></th>\n",
       "    </tr>\n",
       "  </thead>\n",
       "  <tbody>\n",
       "    <tr>\n",
       "      <th>410730</th>\n",
       "      <th>0</th>\n",
       "      <th>0</th>\n",
       "      <td>0.339572</td>\n",
       "      <td>0.312635</td>\n",
       "      <td>0.909918</td>\n",
       "      <td>0.803561</td>\n",
       "      <td>-0.196439</td>\n",
       "      <td>0.803561</td>\n",
       "      <td>0.446969</td>\n",
       "    </tr>\n",
       "  </tbody>\n",
       "</table>\n",
       "</div>"
      ],
      "text/plain": [
       "                                     nse       kge      rmse      bias  \\\n",
       "catchment_id lead_time feature                                           \n",
       "410730       0         0        0.339572  0.312635  0.909918  0.803561   \n",
       "\n",
       "                                relative_bias  absolute_bias  nse_sqrt  \n",
       "catchment_id lead_time feature                                          \n",
       "410730       0         0            -0.196439       0.803561  0.446969  "
      ]
     },
     "execution_count": 33,
     "metadata": {},
     "output_type": "execute_result"
    }
   ],
   "source": [
    "print('third pass:')\n",
    "trainer = get_trainer(config)\n",
    "trainer.fit(model, dataloader_cal_train)\n",
    "\n",
    "\n",
    "model = get_model_from_path(current_path/version, check_point='last-v2')\n",
    "\n",
    "ds = process_and_convert_dataloader_to_xarray(dataloader_cal_train, model, config)\n",
    "m = get_metrics(ds)\n",
    "m.to_dataframe()"
   ]
  },
  {
   "cell_type": "code",
   "execution_count": null,
   "metadata": {},
   "outputs": [],
   "source": []
  }
 ],
 "metadata": {
  "kernelspec": {
   "display_name": "hydroml-dFLAodHf-py3.11",
   "language": "python",
   "name": "python3"
  },
  "language_info": {
   "codemirror_mode": {
    "name": "ipython",
    "version": 3
   },
   "file_extension": ".py",
   "mimetype": "text/x-python",
   "name": "python",
   "nbconvert_exporter": "python",
   "pygments_lexer": "ipython3",
   "version": "3.11.9"
  }
 },
 "nbformat": 4,
 "nbformat_minor": 2
}
