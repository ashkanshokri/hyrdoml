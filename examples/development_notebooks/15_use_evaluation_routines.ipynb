{
 "cells": [
  {
   "cell_type": "code",
   "execution_count": 1,
   "metadata": {},
   "outputs": [],
   "source": [
    "%load_ext autoreload\n",
    "%autoreload 2\n",
    "\n",
    "#load config\n",
    "from hydroml.config.config import Config\n",
    "with open('P://work//sho108//hydroml//workflows//basins.txt', 'r') as f:\n",
    "    basins = f.read().splitlines()\n",
    "\n",
    "catchment_ids = basins[1:3]#'410730'\n",
    "# '410730'\n"
   ]
  },
  {
   "cell_type": "code",
   "execution_count": 2,
   "metadata": {},
   "outputs": [
    {
     "name": "stderr",
     "output_type": "stream",
     "text": [
      "                                                                        \r"
     ]
    },
    {
     "name": "stdout",
     "output_type": "stream",
     "text": [
      "Transforming data: calculating transform parameters and saving to P:\\work\\sho108\\hydroml\\results_2\\default\\params.yaml\n",
      "valid data points per catchment {0: 7590, 1: 8049}\n"
     ]
    },
    {
     "name": "stderr",
     "output_type": "stream",
     "text": [
      "                                                                        \r"
     ]
    },
    {
     "name": "stdout",
     "output_type": "stream",
     "text": [
      "Transforming data: loading transform parameters from P:\\work\\sho108\\hydroml\\results_2\\default\\params.yaml\n",
      "P:\\work\\sho108\\hydroml\\results_2\\default\\241211120058_afc7\n"
     ]
    },
    {
     "name": "stderr",
     "output_type": "stream",
     "text": [
      "GPU available: False, used: False\n",
      "TPU available: False, using: 0 TPU cores\n",
      "HPU available: False, using: 0 HPUs\n",
      "c:\\Users\\sho108\\AppData\\Local\\pypoetry\\Cache\\virtualenvs\\hydroml-dFLAodHf-py3.11\\Lib\\site-packages\\pytorch_lightning\\callbacks\\model_checkpoint.py:654: Checkpoint directory \\\\fs1-cbr.nexus.csiro.au\\{ev-ca-macq}\\work\\sho108\\hydroml\\results_2\\default\\241211120058_afc7 exists and is not empty.\n",
      "\n",
      "  | Name              | Type       | Params | Mode \n",
      "---------------------------------------------------------\n",
      "0 | static_embedding  | Linear     | 15     | train\n",
      "1 | dynamic_embedding | Linear     | 5      | train\n",
      "2 | lstm              | LSTM       | 128    | train\n",
      "3 | dropout           | Identity   | 0      | train\n",
      "4 | head              | Sequential | 61     | train\n",
      "---------------------------------------------------------\n",
      "209       Trainable params\n",
      "0         Non-trainable params\n",
      "209       Total params\n",
      "0.001     Total estimated model params size (MB)\n",
      "9         Modules in train mode\n",
      "0         Modules in eval mode\n"
     ]
    },
    {
     "data": {
      "application/vnd.jupyter.widget-view+json": {
       "model_id": "524173c6980346c1acbde3286db040de",
       "version_major": 2,
       "version_minor": 0
      },
      "text/plain": [
       "Sanity Checking: |          | 0/? [00:00<?, ?it/s]"
      ]
     },
     "metadata": {},
     "output_type": "display_data"
    },
    {
     "name": "stderr",
     "output_type": "stream",
     "text": [
      "c:\\Users\\sho108\\AppData\\Local\\pypoetry\\Cache\\virtualenvs\\hydroml-dFLAodHf-py3.11\\Lib\\site-packages\\pytorch_lightning\\utilities\\data.py:78: Trying to infer the `batch_size` from an ambiguous collection. The batch size we found is 256. To avoid any miscalculations, use `self.log(..., batch_size=batch_size)`.\n"
     ]
    },
    {
     "data": {
      "application/vnd.jupyter.widget-view+json": {
       "model_id": "9e9aa50870894884a1ac7dd582561468",
       "version_major": 2,
       "version_minor": 0
      },
      "text/plain": [
       "Training: |          | 0/? [00:00<?, ?it/s]"
      ]
     },
     "metadata": {},
     "output_type": "display_data"
    },
    {
     "name": "stderr",
     "output_type": "stream",
     "text": [
      "c:\\Users\\sho108\\AppData\\Local\\pypoetry\\Cache\\virtualenvs\\hydroml-dFLAodHf-py3.11\\Lib\\site-packages\\pytorch_lightning\\utilities\\data.py:78: Trying to infer the `batch_size` from an ambiguous collection. The batch size we found is 23. To avoid any miscalculations, use `self.log(..., batch_size=batch_size)`.\n",
      "c:\\Users\\sho108\\AppData\\Local\\pypoetry\\Cache\\virtualenvs\\hydroml-dFLAodHf-py3.11\\Lib\\site-packages\\pytorch_lightning\\callbacks\\model_checkpoint.py:384: `ModelCheckpoint(monitor='val_loss')` could not find the monitored key in the returned metrics: ['lr-Adam', 'train_loss', 'epoch', 'step']. HINT: Did you call `log('val_loss', value)` in the `LightningModule`?\n"
     ]
    },
    {
     "data": {
      "application/vnd.jupyter.widget-view+json": {
       "model_id": "e9db94dc5ecf402f889e625ddc6c7171",
       "version_major": 2,
       "version_minor": 0
      },
      "text/plain": [
       "Validation: |          | 0/? [00:00<?, ?it/s]"
      ]
     },
     "metadata": {},
     "output_type": "display_data"
    },
    {
     "name": "stderr",
     "output_type": "stream",
     "text": [
      "c:\\Users\\sho108\\AppData\\Local\\pypoetry\\Cache\\virtualenvs\\hydroml-dFLAodHf-py3.11\\Lib\\site-packages\\pytorch_lightning\\utilities\\data.py:78: Trying to infer the `batch_size` from an ambiguous collection. The batch size we found is 166. To avoid any miscalculations, use `self.log(..., batch_size=batch_size)`.\n",
      "`Trainer.fit` stopped: `max_epochs=5` reached.\n",
      "                                                                        \r"
     ]
    },
    {
     "name": "stdout",
     "output_type": "stream",
     "text": [
      "Transforming data: loading transform parameters from P:\\work\\sho108\\hydroml\\results_2\\default\\params.yaml\n"
     ]
    },
    {
     "name": "stderr",
     "output_type": "stream",
     "text": [
      "                                                                        \r"
     ]
    },
    {
     "name": "stdout",
     "output_type": "stream",
     "text": [
      "Transforming data: loading transform parameters from P:\\work\\sho108\\hydroml\\results_2\\default\\params.yaml\n"
     ]
    },
    {
     "name": "stderr",
     "output_type": "stream",
     "text": [
      "GPU available: False, used: False                                       \n",
      "TPU available: False, using: 0 TPU cores\n",
      "HPU available: False, using: 0 HPUs\n"
     ]
    },
    {
     "name": "stdout",
     "output_type": "stream",
     "text": [
      "Transforming data: loading transform parameters from P:\\work\\sho108\\hydroml\\results_2\\default\\params.yaml\n",
      "P:\\work\\sho108\\hydroml\\results_2\\default\\241211120058_afc7\\finetune_all\\912105A\\241211120225_8d78\n"
     ]
    },
    {
     "name": "stderr",
     "output_type": "stream",
     "text": [
      "c:\\Users\\sho108\\AppData\\Local\\pypoetry\\Cache\\virtualenvs\\hydroml-dFLAodHf-py3.11\\Lib\\site-packages\\pytorch_lightning\\callbacks\\model_checkpoint.py:654: Checkpoint directory \\\\fs1-cbr.nexus.csiro.au\\{ev-ca-macq}\\work\\sho108\\hydroml\\results_2\\default\\241211120058_afc7\\finetune_all\\912105A\\241211120225_8d78 exists and is not empty.\n",
      "\n",
      "  | Name              | Type       | Params | Mode \n",
      "---------------------------------------------------------\n",
      "0 | static_embedding  | Linear     | 15     | train\n",
      "1 | dynamic_embedding | Linear     | 5      | train\n",
      "2 | lstm              | LSTM       | 128    | train\n",
      "3 | dropout           | Identity   | 0      | train\n",
      "4 | head              | Sequential | 61     | train\n",
      "---------------------------------------------------------\n",
      "209       Trainable params\n",
      "0         Non-trainable params\n",
      "209       Total params\n",
      "0.001     Total estimated model params size (MB)\n",
      "9         Modules in train mode\n",
      "0         Modules in eval mode\n"
     ]
    },
    {
     "data": {
      "application/vnd.jupyter.widget-view+json": {
       "model_id": "0ccd6b3a29ff4ffbbe5c8e8fc891d9f7",
       "version_major": 2,
       "version_minor": 0
      },
      "text/plain": [
       "Sanity Checking: |          | 0/? [00:00<?, ?it/s]"
      ]
     },
     "metadata": {},
     "output_type": "display_data"
    },
    {
     "name": "stderr",
     "output_type": "stream",
     "text": [
      "c:\\Users\\sho108\\AppData\\Local\\pypoetry\\Cache\\virtualenvs\\hydroml-dFLAodHf-py3.11\\Lib\\site-packages\\pytorch_lightning\\loops\\fit_loop.py:298: The number of training batches (30) is smaller than the logging interval Trainer(log_every_n_steps=50). Set a lower value for log_every_n_steps if you want to see logs for the training epoch.\n"
     ]
    },
    {
     "data": {
      "application/vnd.jupyter.widget-view+json": {
       "model_id": "7c9f027efd25469e8ec1e4732966e446",
       "version_major": 2,
       "version_minor": 0
      },
      "text/plain": [
       "Training: |          | 0/? [00:00<?, ?it/s]"
      ]
     },
     "metadata": {},
     "output_type": "display_data"
    },
    {
     "data": {
      "application/vnd.jupyter.widget-view+json": {
       "model_id": "b2f042ef44ff45078655d6ae8b6eaa9d",
       "version_major": 2,
       "version_minor": 0
      },
      "text/plain": [
       "Validation: |          | 0/? [00:00<?, ?it/s]"
      ]
     },
     "metadata": {},
     "output_type": "display_data"
    },
    {
     "name": "stderr",
     "output_type": "stream",
     "text": [
      "`Trainer.fit` stopped: `max_epochs=5` reached.\n",
      "                                                                        \r"
     ]
    },
    {
     "name": "stdout",
     "output_type": "stream",
     "text": [
      "Transforming data: loading transform parameters from P:\\work\\sho108\\hydroml\\results_2\\default\\params.yaml\n"
     ]
    },
    {
     "data": {
      "text/plain": [
       "WindowsPath('P:/work/sho108/hydroml/results_2/default/241211120058_afc7')"
      ]
     },
     "execution_count": 2,
     "metadata": {},
     "output_type": "execute_result"
    }
   ],
   "source": [
    "from hydroml.workflow.evaluation import train_evaluate, train_finetune_evaluate\n",
    "#train_evaluate(config)\n",
    "\n",
    "config = Config(cal={'periods' : [['1985-01-01', '2014-01-01']], 'catchment_ids':catchment_ids}, #, 'weights': [1, 1, 1, 1, 1, 1, 1, 1, 1]\n",
    "                val={'periods' : [['1985-01-01', '2014-01-01']], 'catchment_ids':catchment_ids[0:1]}, #,\n",
    "                max_epochs=5,\n",
    "                lstm_hidden_size=4,\n",
    "                batch_size=256,\n",
    "                initial_forget_bias=0,\n",
    "                parent_path = 'P://work//sho108//hydroml//results_2',\n",
    "                lr=1e-3,\n",
    "                dataloader_nworkers=9,\n",
    "                dataloader_persistent_workers=True                \n",
    "                )\n",
    "\n",
    "config.set_new_version_name()\n",
    "train_finetune_evaluate(config)\n",
    "\n"
   ]
  },
  {
   "cell_type": "code",
   "execution_count": 3,
   "metadata": {},
   "outputs": [
    {
     "name": "stderr",
     "output_type": "stream",
     "text": [
      "                                                                        \r"
     ]
    },
    {
     "name": "stdout",
     "output_type": "stream",
     "text": [
      "Transforming data: loading transform parameters from P:\\work\\sho108\\hydroml\\results_2\\default\\params.yaml\n",
      "valid data points per catchment {0: 7590, 1: 8049}\n"
     ]
    },
    {
     "name": "stderr",
     "output_type": "stream",
     "text": [
      "GPU available: False, used: False                                       \n",
      "TPU available: False, using: 0 TPU cores\n",
      "HPU available: False, using: 0 HPUs\n",
      "c:\\Users\\sho108\\AppData\\Local\\pypoetry\\Cache\\virtualenvs\\hydroml-dFLAodHf-py3.11\\Lib\\site-packages\\pytorch_lightning\\callbacks\\model_checkpoint.py:654: Checkpoint directory \\\\fs1-cbr.nexus.csiro.au\\{ev-ca-macq}\\work\\sho108\\hydroml\\results_2\\default\\241211120348_670c exists and is not empty.\n",
      "\n",
      "  | Name              | Type       | Params | Mode \n",
      "---------------------------------------------------------\n",
      "0 | static_embedding  | Linear     | 15     | train\n",
      "1 | dynamic_embedding | Linear     | 5      | train\n",
      "2 | lstm              | LSTM       | 128    | train\n",
      "3 | dropout           | Identity   | 0      | train\n",
      "4 | head              | Sequential | 61     | train\n",
      "---------------------------------------------------------\n",
      "209       Trainable params\n",
      "0         Non-trainable params\n",
      "209       Total params\n",
      "0.001     Total estimated model params size (MB)\n",
      "9         Modules in train mode\n",
      "0         Modules in eval mode\n"
     ]
    },
    {
     "name": "stdout",
     "output_type": "stream",
     "text": [
      "Transforming data: loading transform parameters from P:\\work\\sho108\\hydroml\\results_2\\default\\params.yaml\n",
      "P:\\work\\sho108\\hydroml\\results_2\\default\\241211120348_670c\n"
     ]
    },
    {
     "data": {
      "application/vnd.jupyter.widget-view+json": {
       "model_id": "8727b6c1ec4f4a1cb05edab4982f9c74",
       "version_major": 2,
       "version_minor": 0
      },
      "text/plain": [
       "Sanity Checking: |          | 0/? [00:00<?, ?it/s]"
      ]
     },
     "metadata": {},
     "output_type": "display_data"
    },
    {
     "data": {
      "application/vnd.jupyter.widget-view+json": {
       "model_id": "3220c6bc38f44b668a689166035dd196",
       "version_major": 2,
       "version_minor": 0
      },
      "text/plain": [
       "Training: |          | 0/? [00:00<?, ?it/s]"
      ]
     },
     "metadata": {},
     "output_type": "display_data"
    },
    {
     "data": {
      "application/vnd.jupyter.widget-view+json": {
       "model_id": "c84627f878704342afe1049f044fa478",
       "version_major": 2,
       "version_minor": 0
      },
      "text/plain": [
       "Validation: |          | 0/? [00:00<?, ?it/s]"
      ]
     },
     "metadata": {},
     "output_type": "display_data"
    },
    {
     "name": "stderr",
     "output_type": "stream",
     "text": [
      "`Trainer.fit` stopped: `max_epochs=5` reached.\n",
      "                                                                        \r"
     ]
    },
    {
     "name": "stdout",
     "output_type": "stream",
     "text": [
      "Transforming data: loading transform parameters from P:\\work\\sho108\\hydroml\\results_2\\default\\params.yaml\n"
     ]
    },
    {
     "name": "stderr",
     "output_type": "stream",
     "text": [
      "                                                                        \r"
     ]
    },
    {
     "name": "stdout",
     "output_type": "stream",
     "text": [
      "Transforming data: loading transform parameters from P:\\work\\sho108\\hydroml\\results_2\\default\\params.yaml\n"
     ]
    },
    {
     "name": "stderr",
     "output_type": "stream",
     "text": [
      "GPU available: False, used: False                                       \n",
      "TPU available: False, using: 0 TPU cores\n",
      "HPU available: False, using: 0 HPUs\n",
      "c:\\Users\\sho108\\AppData\\Local\\pypoetry\\Cache\\virtualenvs\\hydroml-dFLAodHf-py3.11\\Lib\\site-packages\\pytorch_lightning\\callbacks\\model_checkpoint.py:654: Checkpoint directory \\\\fs1-cbr.nexus.csiro.au\\{ev-ca-macq}\\work\\sho108\\hydroml\\results_2\\default\\241211120348_670c\\finetune_head_dynamic_embedding\\912105A\\241211120515_1a4c exists and is not empty.\n",
      "\n",
      "  | Name              | Type       | Params | Mode \n",
      "---------------------------------------------------------\n",
      "0 | static_embedding  | Linear     | 15     | train\n",
      "1 | dynamic_embedding | Linear     | 5      | train\n",
      "2 | lstm              | LSTM       | 128    | train\n",
      "3 | dropout           | Identity   | 0      | train\n",
      "4 | head              | Sequential | 61     | train\n",
      "---------------------------------------------------------\n",
      "66        Trainable params\n",
      "143       Non-trainable params\n",
      "209       Total params\n",
      "0.001     Total estimated model params size (MB)\n",
      "9         Modules in train mode\n",
      "0         Modules in eval mode\n"
     ]
    },
    {
     "name": "stdout",
     "output_type": "stream",
     "text": [
      "Transforming data: loading transform parameters from P:\\work\\sho108\\hydroml\\results_2\\default\\params.yaml\n",
      "P:\\work\\sho108\\hydroml\\results_2\\default\\241211120348_670c\\finetune_head_dynamic_embedding\\912105A\\241211120515_1a4c\n"
     ]
    },
    {
     "data": {
      "application/vnd.jupyter.widget-view+json": {
       "model_id": "665f0d81b2c3481a9e00db4274b5f04d",
       "version_major": 2,
       "version_minor": 0
      },
      "text/plain": [
       "Sanity Checking: |          | 0/? [00:00<?, ?it/s]"
      ]
     },
     "metadata": {},
     "output_type": "display_data"
    },
    {
     "name": "stderr",
     "output_type": "stream",
     "text": [
      "c:\\Users\\sho108\\AppData\\Local\\pypoetry\\Cache\\virtualenvs\\hydroml-dFLAodHf-py3.11\\Lib\\site-packages\\pytorch_lightning\\loops\\fit_loop.py:298: The number of training batches (30) is smaller than the logging interval Trainer(log_every_n_steps=50). Set a lower value for log_every_n_steps if you want to see logs for the training epoch.\n"
     ]
    },
    {
     "data": {
      "application/vnd.jupyter.widget-view+json": {
       "model_id": "fbe8a050229d493f85a36a675b054f70",
       "version_major": 2,
       "version_minor": 0
      },
      "text/plain": [
       "Training: |          | 0/? [00:00<?, ?it/s]"
      ]
     },
     "metadata": {},
     "output_type": "display_data"
    },
    {
     "data": {
      "application/vnd.jupyter.widget-view+json": {
       "model_id": "894789ec9f3c49f088806aa86b2b1349",
       "version_major": 2,
       "version_minor": 0
      },
      "text/plain": [
       "Validation: |          | 0/? [00:00<?, ?it/s]"
      ]
     },
     "metadata": {},
     "output_type": "display_data"
    },
    {
     "name": "stderr",
     "output_type": "stream",
     "text": [
      "`Trainer.fit` stopped: `max_epochs=5` reached.\n",
      "                                                                        \r"
     ]
    },
    {
     "name": "stdout",
     "output_type": "stream",
     "text": [
      "Transforming data: loading transform parameters from P:\\work\\sho108\\hydroml\\results_2\\default\\params.yaml\n"
     ]
    }
   ],
   "source": [
    "config.layers_to_finetune = ['head', 'dynamic_embedding']\n",
    "config.set_new_version_name()\n",
    "exp_base_path = train_finetune_evaluate(config)"
   ]
  },
  {
   "cell_type": "code",
   "execution_count": 8,
   "metadata": {},
   "outputs": [
    {
     "data": {
      "text/plain": [
       "<matplotlib.legend.Legend at 0x23580742a90>"
      ]
     },
     "execution_count": 8,
     "metadata": {},
     "output_type": "execute_result"
    },
    {
     "data": {
      "image/png": "[encoded data removed]",
      "text/plain": [
       "<Figure size 640x480 with 1 Axes>"
      ]
     },
     "metadata": {},
     "output_type": "display_data"
    }
   ],
   "source": [
    "from pathlib import Path\n",
    "import xarray as xr\n",
    "from hydroml.evaluation import graphs as g\n",
    "\n",
    "exp_base_path = Path('P://work//sho108//hydroml//results_2//default//241211131645_b881')\n",
    "resutl_path = exp_base_path / 'results'\n",
    "ds = xr.open_dataset(resutl_path / 'metrics.nc').isel(lead_time=0, feature=0)\n",
    "ds_ft = xr.open_dataset(resutl_path / 'metrics_finetune_all.nc').isel(lead_time=0, feature=0)\n",
    "g.exceedance_curve(ds['nse'])\n",
    "g.exceedance_curve(ds_ft['nse'])\n",
    "\n",
    "import matplotlib.pyplot as plt\n",
    "plt.ylim(0, 1)\n",
    "plt.legend(['pretrained', 'finetuned'])\n"
   ]
  }
 ],
 "metadata": {
  "kernelspec": {
   "display_name": "hydroml-dFLAodHf-py3.11",
   "language": "python",
   "name": "python3"
  },
  "language_info": {
   "codemirror_mode": {
    "name": "ipython",
    "version": 3
   },
   "file_extension": ".py",
   "mimetype": "text/x-python",
   "name": "python",
   "nbconvert_exporter": "python",
   "pygments_lexer": "ipython3",
   "version": "3.11.9"
  }
 },
 "nbformat": 4,
 "nbformat_minor": 2
}
