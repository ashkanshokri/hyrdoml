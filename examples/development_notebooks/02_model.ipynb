{
 "cells": [
  {
   "cell_type": "code",
   "execution_count": 1,
   "metadata": {},
   "outputs": [],
   "source": [
    "%load_ext autoreload\n",
    "%autoreload 2\n",
    "\n",
    "\n",
    "from hydroml.config.config import Config\n",
    "from hydroml.models.lstm import HydroLSTM\n",
    "from hydroml.models import get_model\n",
    "import torch\n",
    "\n",
    "config = Config(lstm_dynamic_input_feature_size=10,\n",
    " lstm_static_input_size=1,\n",
    " lstm_dynamic_input_feature_latent_size=5,\n",
    " lstm_static_input_latent_size=1,\n",
    ")#number_of_time_output_timestep=3)\n",
    "model = HydroLSTM(config) # or get_model(config)\n",
    "\n"
   ]
  },
  {
   "cell_type": "code",
   "execution_count": 6,
   "metadata": {},
   "outputs": [],
   "source": [
    "# batch, seqlen, features\n",
    "batch_size = 20\n",
    "seq_len = 10\n",
    "dynamic_features = config.lstm_dynamic_input_feature_size\n",
    "static_features = config.lstm_static_input_size\n",
    "\n",
    "batch = {}\n",
    "batch['x_dynamic'] = torch.randn(batch_size, seq_len, dynamic_features)\n",
    "batch['x_static'] = torch.randn(batch_size, static_features)\n",
    "\n",
    "batch['y'] = torch.randn(batch_size, config.number_of_time_output_timestep)\n",
    "batch['metadata'] = {'observed_target_std': torch.randn(batch_size, 1), 'weight': torch.randn(batch_size)}\n"
   ]
  },
  {
   "cell_type": "code",
   "execution_count": 7,
   "metadata": {},
   "outputs": [
    {
     "data": {
      "text/plain": [
       "torch.Size([20, 1, 1])"
      ]
     },
     "execution_count": 7,
     "metadata": {},
     "output_type": "execute_result"
    }
   ],
   "source": [
    "y = model.forward(batch['x_dynamic'], batch['x_static'])\n",
    "y.shape\n",
    "\n"
   ]
  },
  {
   "cell_type": "code",
   "execution_count": 8,
   "metadata": {},
   "outputs": [
    {
     "data": {
      "text/plain": [
       "tensor(0.7365, grad_fn=<MeanBackward0>)"
      ]
     },
     "execution_count": 8,
     "metadata": {},
     "output_type": "execute_result"
    }
   ],
   "source": [
    "model.loss(batch, 0)\n"
   ]
  },
  {
   "cell_type": "code",
   "execution_count": null,
   "metadata": {},
   "outputs": [],
   "source": []
  }
 ],
 "metadata": {
  "kernelspec": {
   "display_name": "hydroml-dFLAodHf-py3.11",
   "language": "python",
   "name": "python3"
  },
  "language_info": {
   "codemirror_mode": {
    "name": "ipython",
    "version": 3
   },
   "file_extension": ".py",
   "mimetype": "text/x-python",
   "name": "python",
   "nbconvert_exporter": "python",
   "pygments_lexer": "ipython3",
   "version": "3.11.9"
  }
 },
 "nbformat": 4,
 "nbformat_minor": 2
}
