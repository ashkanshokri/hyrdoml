{
 "cells": [
  {
   "cell_type": "code",
   "execution_count": 107,
   "metadata": {},
   "outputs": [
    {
     "name": "stdout",
     "output_type": "stream",
     "text": [
      "The autoreload extension is already loaded. To reload it, use:\n",
      "  %reload_ext autoreload\n"
     ]
    }
   ],
   "source": [
    "%load_ext autoreload\n",
    "%autoreload 2\n",
    "\n",
    "from hydroml.data.camels_aus_ds import get_dataset\n",
    "from hydroml.config.config import Config\n"
   ]
  },
  {
   "cell_type": "code",
   "execution_count": 108,
   "metadata": {},
   "outputs": [],
   "source": [
    "camels_aus_config ={\n",
    "    'data_dir': \"Z://Data//CAMELS_AUS//preprocessed\",\n",
    "}\n",
    "config = Config(\n",
    "                target_features=['streamflow_mmd'],\n",
    "                dynamic_features=['precipitation_AWAP', 'et_morton_wet_SILO'],\n",
    "                static_features=[],\n",
    "                evolving_static_features={'dynamic_feature_mean': {'dynamic_features': ['precipitation_AWAP']}}, \n",
    "                evolving_metadata={'observed_target_std': {'target_features': ['streamflow_mmd']}}, # can be set automatically\n",
    "                batch_size=16)"
   ]
  },
  {
   "cell_type": "code",
   "execution_count": 109,
   "metadata": {},
   "outputs": [
    {
     "name": "stderr",
     "output_type": "stream",
     "text": [
      "                                                                         \r"
     ]
    }
   ],
   "source": [
    "dataset = get_dataset(camels_aus_config['data_dir'], config, 'cal')\n",
    "dataloader = dataset.to_dataloader()\n",
    "\n"
   ]
  },
  {
   "cell_type": "code",
   "execution_count": 115,
   "metadata": {},
   "outputs": [
    {
     "name": "stdout",
     "output_type": "stream",
     "text": [
      "batch size = 16, seq len = 10\n",
      "=-=-=-=-=-=-=-=-=-=-=-=-=-\n",
      "batch keys:         dict_keys(['x_dynamic', 'x_static', 'y', 'date', 'catchment_id', 'metadata'])\n",
      "-------------\n",
      "x_dynamic: torch.Size([16, 10, 4])\n",
      "-------------\n",
      "x_static: torch.Size([16, 1])\n",
      "-------------\n",
      "y: torch.Size([16, 1])\n",
      "-------------\n",
      "date: torch.Size([16])\n",
      "-------------\n",
      "catchment_id <list>: len = 16\n",
      "catchment_id: ['410730', '410730', '410730', '410730', '410730', '410730', '410730', '410730', '410730', '410730', '410730', '410730', '410730', '410730', '410730', '410730']\n",
      "-------------\n",
      "metadata <dict>, keys = dict_keys(['observed_target_std'])\n",
      "metadata[\"observed_target_std\"]: torch.Size([16, 1])\n"
     ]
    }
   ],
   "source": [
    "# test the dataloader\n",
    "import torch\n",
    "print(f'batch size = {config.batch_size}, seq len = {dataset.seqlen}')\n",
    "for batch in dataloader:\n",
    "    print('=-'*13)\n",
    "    print(f'batch keys:         {batch.keys()}')\n",
    "    for k in batch.keys():\n",
    "        print('-'*13)\n",
    "        if isinstance(batch[k], torch.Tensor):\n",
    "            print(f'{k}: {batch[k].shape}')\n",
    "        elif isinstance(batch[k], dict):\n",
    "            print(f'{k} <dict>, keys = {batch[k].keys()}')\n",
    "            for kk in batch[k].keys():\n",
    "                print(f'{k}[\"{kk}\"]: {batch[k][kk].shape}')\n",
    "        elif isinstance(batch[k], list):\n",
    "            print(f'{k} <list>: len = {len(batch[k])}')\n",
    "            print(f'{k}: {batch[k]}')\n",
    "        else:\n",
    "            print(f'{k} <{type(batch[k])}>')\n",
    "        \n",
    "    \n",
    "    break\n"
   ]
  },
  {
   "cell_type": "code",
   "execution_count": null,
   "metadata": {},
   "outputs": [],
   "source": []
  }
 ],
 "metadata": {
  "kernelspec": {
   "display_name": "hydroml-dFLAodHf-py3.11",
   "language": "python",
   "name": "python3"
  },
  "language_info": {
   "codemirror_mode": {
    "name": "ipython",
    "version": 3
   },
   "file_extension": ".py",
   "mimetype": "text/x-python",
   "name": "python",
   "nbconvert_exporter": "python",
   "pygments_lexer": "ipython3",
   "version": "3.11.9"
  }
 },
 "nbformat": 4,
 "nbformat_minor": 2
}
