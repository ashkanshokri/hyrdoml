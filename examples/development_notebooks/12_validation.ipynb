{
 "cells": [
  {
   "cell_type": "code",
   "execution_count": null,
   "metadata": {},
   "outputs": [],
   "source": [
    "%load_ext autoreload\n",
    "%autoreload 2\n",
    "\n",
    "from hydroml.training.train import train\n",
    "from hydroml.config.config import Config\n",
    "from hydroml.models.evaluate_model import evaluate_model\n",
    "\n",
    "# read basins.txt\n",
    "\n",
    "\n",
    "with open('P://work//sho108//hydroml//workflows//basins.txt', 'r') as f:\n",
    "    basins = f.read().splitlines()\n",
    "\n",
    "\n",
    "config = Config(cal={'periods' : [['1985-01-01', '2014-01-01']], 'catchment_ids':basins[:2]}, #, 'weights': [1, 1, 1, 1, 1, 1, 1, 1, 1]\n",
    "                val={'periods' : [['1985-01-01', '2014-01-01']], 'catchment_ids':basins[:2]}, #,\n",
    "                max_epochs=2,\n",
    "                lstm_hidden_size=4,\n",
    "                batch_size=128,\n",
    "                )\n",
    "\n",
    "current_path, version = train(config)\n",
    "\n",
    "results = evaluate_model(current_path/version)\n",
    "\n",
    "\n",
    "\n",
    "\n"
   ]
  }
 ],
 "metadata": {
  "language_info": {
   "name": "python"
  }
 },
 "nbformat": 4,
 "nbformat_minor": 2
}
