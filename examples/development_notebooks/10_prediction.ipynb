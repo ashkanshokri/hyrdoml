{
 "cells": [
  {
   "cell_type": "code",
   "execution_count": 6,
   "metadata": {},
   "outputs": [
    {
     "name": "stdout",
     "output_type": "stream",
     "text": [
      "The autoreload extension is already loaded. To reload it, use:\n",
      "  %reload_ext autoreload\n"
     ]
    }
   ],
   "source": [
    "%load_ext autoreload\n",
    "%autoreload 2\n",
    "\n",
    "from hydroml.models.get_model_from_path import get_model_from_path\n",
    "from hydroml.config.config import load_config\n",
    "from pathlib import Path\n",
    "from hydroml.models import get_model\n",
    "\n",
    "from hydroml.models.lstm import HydroLSTM\n",
    "\n",
    "path='P://work//sho108//hydroml//results//default//241209185033_f34a'\n",
    "model = HydroLSTM.load_from_checkpoint(Path(path)/'last.ckpt') #, config=config\n"
   ]
  },
  {
   "cell_type": "code",
   "execution_count": 13,
   "metadata": {},
   "outputs": [],
   "source": [
    "model.config.dynamic_features\n",
    "model.config.static_features\n",
    "seqlen = model.config.seqlen\n",
    "\n"
   ]
  },
  {
   "cell_type": "code",
   "execution_count": 33,
   "metadata": {},
   "outputs": [],
   "source": [
    "import numpy as np\n",
    "import torch\n",
    "from hydroml.utils import helpers as h\n",
    "import pandas as pd\n",
    "import xarray as xr\n",
    "from hydroml.data.transformers import get_transformer\n",
    "\n",
    "def f(x, s, model, date=None):\n",
    "    \n",
    "    if model.config.add_sin_cos_doy:\n",
    "        dates = xr.DataArray(pd.date_range(start=date, periods=seqlen, freq='D'), dims=['time'])\n",
    "        x_dynamic = np.concatenate([x, h.get_sin_cos_doy(dates)], axis=1) # should be come from helper function \n",
    "\n",
    "    # load transformer\n",
    "    parameters = h.read_yaml(model.config.get_transform_parameters_path())\n",
    "    parameters = parameters[model.config.target_features[0]]\n",
    "    transformer = get_transformer(model.config.transform_target)(parameters=parameters)\n",
    "\n",
    "    # transform\n",
    "    x_dynamic = transformer.transform_dynamic(x_dynamic)\n",
    "    \n",
    "\n",
    "    y =  model.forward(torch.tensor(x_dynamic.astype(np.float32)), torch.tensor(s.astype(np.float32)))\n",
    "\n",
    "    # inverse transform\n",
    "    y = transformer.inverse_transform_dynamic(y)\n",
    "\n",
    "    return y\n",
    "\n",
    "\n",
    "\n",
    "date = '2024-01-01'\n",
    "x_dynamic = np.random.rand(seqlen, len(model.config.dynamic_features))\n",
    "x_static = np.random.rand(len(model.config.static_features)+len(model.config.evolving_static_features)).astype(np.float32)\n",
    "\n",
    "\n",
    "\n",
    "\n"
   ]
  },
  {
   "cell_type": "code",
   "execution_count": 34,
   "metadata": {},
   "outputs": [
    {
     "ename": "ValueError",
     "evalue": "Unsupported transformer: {'model': 'HydroLSTM', 'lstm_dynamic_input_feature_latent_size': 1, 'lstm_static_input_latent_size': 1, 'lstm_hidden_size': 16, 'lstm_target_size': 1, 'lstm_layers': 1, 'lr': 0.001, 'dropout_probability': 0.0, 'initial_forget_bias': 1.0, 'weight_decay': 0.0, 'loss_fn': 'nse', 'number_of_time_output_timestep': 1, 'seqlen': 60, 'transform_predictor_dynamic': 'norm', 'transform_target': 'norm', 'dynamic_features': ['precipitation_AWAP', 'et_morton_wet_SILO'], 'target_features': ['streamflow_mmd'], 'static_features': ['catchment_area', 'mean_slope_pct', 'prop_forested', 'upsdist', 'strdensity', 'strahler', 'frac_snow', 'p_seasonality', 'p_mean', 'pet_mean', 'aridity', 'high_prec_freq', 'high_prec_dur'], 'evolving_static_features': {'dynamic_feature_mean': {'dynamic_features': ['precipitation_AWAP']}}, 'add_sin_cos_doy': True, 'batch_size': 128, 'dataloader_nworkers': 0, 'dataloader_persistent_workers': False, 'cal': {'periods': [['1985-01-01', '2017-01-01']], 'catchment_ids': ['401009', '410730', '917107A', '405205', '138010A', '610008', '304499', '318076', 'G8140001', '608002']}, 'val': {'periods': [['1985-01-01', '2017-01-01']], 'catchment_ids': ['401009', '410730', '917107A', '405205', '138010A', '610008', '304499', '318076', 'G8140001', '608002']}, 'test': {'periods': [['2011-01-01', '2011-12-01']], 'catchment_ids': ['410730']}, 'drop_catchments_with_all_nans': True, 'evolving_metadata': {'observed_target_std': {'target_features': ['streamflow_mmd']}}, 'is_train': True, 'dataset_config': {'name': 'camels_aus_v1', 'static_feature_path': 'Z://Data//CAMELS_AUS//CAMELS_AUS_Attributes&Indices_MasterTable.csv', 'dir': 'Z://Data//CAMELS_AUS//preprocessed'}, 'parent_path': 'P://work//sho108//hydroml//results', 'name': 'default', 'version': '241209185033_f34a', 'transform_parameter_path': 'params.yaml', 'save_top_k': 1, 'max_epochs': 200, 'check_val_every_n_epoch': 5, 'gradient_clip_val': 0.0, 'enable_progress_bar': True, '_filemap': None}",
     "output_type": "error",
     "traceback": [
      "\u001b[1;31m---------------------------------------------------------------------------\u001b[0m",
      "\u001b[1;31mValueError\u001b[0m                                Traceback (most recent call last)",
      "Cell \u001b[1;32mIn[34], line 1\u001b[0m\n\u001b[1;32m----> 1\u001b[0m \u001b[43mf\u001b[49m\u001b[43m(\u001b[49m\u001b[43mx_dynamic\u001b[49m\u001b[43m,\u001b[49m\u001b[43m \u001b[49m\u001b[43mx_static\u001b[49m\u001b[43m,\u001b[49m\u001b[43m \u001b[49m\u001b[43mmodel\u001b[49m\u001b[43m,\u001b[49m\u001b[43m \u001b[49m\u001b[38;5;124;43m'\u001b[39;49m\u001b[38;5;124;43m2024-01-01\u001b[39;49m\u001b[38;5;124;43m'\u001b[39;49m\u001b[43m)\u001b[49m, f(x_dynamic, x_static, model, \u001b[38;5;124m'\u001b[39m\u001b[38;5;124m2024-10-02\u001b[39m\u001b[38;5;124m'\u001b[39m)\n",
      "Cell \u001b[1;32mIn[33], line 15\u001b[0m, in \u001b[0;36mf\u001b[1;34m(x, s, model, date)\u001b[0m\n\u001b[0;32m     12\u001b[0m     x_dynamic \u001b[38;5;241m=\u001b[39m np\u001b[38;5;241m.\u001b[39mconcatenate([x, h\u001b[38;5;241m.\u001b[39mget_sin_cos_doy(dates)], axis\u001b[38;5;241m=\u001b[39m\u001b[38;5;241m1\u001b[39m) \u001b[38;5;66;03m# should be come from helper function \u001b[39;00m\n\u001b[0;32m     14\u001b[0m \u001b[38;5;66;03m# load transformer\u001b[39;00m\n\u001b[1;32m---> 15\u001b[0m transformer \u001b[38;5;241m=\u001b[39m \u001b[43mget_transformer\u001b[49m\u001b[43m(\u001b[49m\u001b[43mmodel\u001b[49m\u001b[38;5;241;43m.\u001b[39;49m\u001b[43mconfig\u001b[49m\u001b[43m)\u001b[49m\n\u001b[0;32m     17\u001b[0m \u001b[38;5;66;03m# transform\u001b[39;00m\n\u001b[0;32m     18\u001b[0m x_dynamic \u001b[38;5;241m=\u001b[39m transformer\u001b[38;5;241m.\u001b[39mtransform_dynamic(x_dynamic)\n",
      "File \u001b[1;32m\\\\fs1-cbr.nexus.csiro.au\\{ev-ca-macq}\\work\\sho108\\hydroml\\hydroml\\data\\transformers.py:13\u001b[0m, in \u001b[0;36mget_transformer\u001b[1;34m(transform)\u001b[0m\n\u001b[0;32m     10\u001b[0m     \u001b[38;5;28;01mreturn\u001b[39;00m NormTransformer\n\u001b[0;32m     12\u001b[0m \u001b[38;5;28;01melse\u001b[39;00m:\n\u001b[1;32m---> 13\u001b[0m     \u001b[38;5;28;01mraise\u001b[39;00m \u001b[38;5;167;01mValueError\u001b[39;00m(\u001b[38;5;124mf\u001b[39m\u001b[38;5;124m\"\u001b[39m\u001b[38;5;124mUnsupported transformer: \u001b[39m\u001b[38;5;132;01m{\u001b[39;00mtransform\u001b[38;5;132;01m}\u001b[39;00m\u001b[38;5;124m\"\u001b[39m)\n",
      "\u001b[1;31mValueError\u001b[0m: Unsupported transformer: {'model': 'HydroLSTM', 'lstm_dynamic_input_feature_latent_size': 1, 'lstm_static_input_latent_size': 1, 'lstm_hidden_size': 16, 'lstm_target_size': 1, 'lstm_layers': 1, 'lr': 0.001, 'dropout_probability': 0.0, 'initial_forget_bias': 1.0, 'weight_decay': 0.0, 'loss_fn': 'nse', 'number_of_time_output_timestep': 1, 'seqlen': 60, 'transform_predictor_dynamic': 'norm', 'transform_target': 'norm', 'dynamic_features': ['precipitation_AWAP', 'et_morton_wet_SILO'], 'target_features': ['streamflow_mmd'], 'static_features': ['catchment_area', 'mean_slope_pct', 'prop_forested', 'upsdist', 'strdensity', 'strahler', 'frac_snow', 'p_seasonality', 'p_mean', 'pet_mean', 'aridity', 'high_prec_freq', 'high_prec_dur'], 'evolving_static_features': {'dynamic_feature_mean': {'dynamic_features': ['precipitation_AWAP']}}, 'add_sin_cos_doy': True, 'batch_size': 128, 'dataloader_nworkers': 0, 'dataloader_persistent_workers': False, 'cal': {'periods': [['1985-01-01', '2017-01-01']], 'catchment_ids': ['401009', '410730', '917107A', '405205', '138010A', '610008', '304499', '318076', 'G8140001', '608002']}, 'val': {'periods': [['1985-01-01', '2017-01-01']], 'catchment_ids': ['401009', '410730', '917107A', '405205', '138010A', '610008', '304499', '318076', 'G8140001', '608002']}, 'test': {'periods': [['2011-01-01', '2011-12-01']], 'catchment_ids': ['410730']}, 'drop_catchments_with_all_nans': True, 'evolving_metadata': {'observed_target_std': {'target_features': ['streamflow_mmd']}}, 'is_train': True, 'dataset_config': {'name': 'camels_aus_v1', 'static_feature_path': 'Z://Data//CAMELS_AUS//CAMELS_AUS_Attributes&Indices_MasterTable.csv', 'dir': 'Z://Data//CAMELS_AUS//preprocessed'}, 'parent_path': 'P://work//sho108//hydroml//results', 'name': 'default', 'version': '241209185033_f34a', 'transform_parameter_path': 'params.yaml', 'save_top_k': 1, 'max_epochs': 200, 'check_val_every_n_epoch': 5, 'gradient_clip_val': 0.0, 'enable_progress_bar': True, '_filemap': None}"
     ]
    }
   ],
   "source": [
    "f(x_dynamic, x_static, model, '2024-01-01'), f(x_dynamic, x_static, model, '2024-10-02')"
   ]
  }
 ],
 "metadata": {
  "kernelspec": {
   "display_name": "hydroml-dFLAodHf-py3.11",
   "language": "python",
   "name": "python3"
  },
  "language_info": {
   "codemirror_mode": {
    "name": "ipython",
    "version": 3
   },
   "file_extension": ".py",
   "mimetype": "text/x-python",
   "name": "python",
   "nbconvert_exporter": "python",
   "pygments_lexer": "ipython3",
   "version": "3.11.9"
  }
 },
 "nbformat": 4,
 "nbformat_minor": 2
}
