{
 "cells": [
  {
   "cell_type": "markdown",
   "metadata": {},
   "source": [
    "# Set up the path mapping\n",
    " \n",
    "The package can contain several different path mappings so for each platform we can use an appropriate path mapping file. The path mappings are stored in the config/path_mappings folder as JSON files. For this tutorial the path mapping needs to include 4 paths:\n",
    " \n",
    " - parent_path: The path to the parent directory where the model will be stored\n",
    " - camels_aus_attributes: The path to the CAMELS Australia attributes file\n",
    " - camels_aus_v1: The path to the CAMELS Australia v1 data\n",
    " - awra_postprocessed: The path to the AWRA postprocessed data\n",
    " \n",
    " In the next cell we are going to build a path mapping and save it as a JSON file in the config/path_mappings folder.\n"
   ]
  },
  {
   "cell_type": "code",
   "execution_count": 7,
   "metadata": {},
   "outputs": [],
   "source": [
    "from hydroml.utils import helpers as h\n",
    "from hydroml.utils import config_path_handler as cp\n",
    "\n",
    "path_mapping = {\n",
    "    \"parent_path\": \"//fs1-cbr.nexus.csiro.au/{d61-coastal-forecasting-wp3}/work/sho108_handover/models/\",\n",
    "    \"camels_aus_attributes\": \"//fs1-cbr.nexus.csiro.au/{d61-coastal-forecasting-wp3}/work/sho108_handover/data/camels_aus/v1/CAMELS_AUS_Attributes&Indices_MasterTable.csv\",\n",
    "    \"camels_aus_v1\": \"//fs1-cbr.nexus.csiro.au/{d61-coastal-forecasting-wp3}/work/sho108_handover/data/camels_aus/v1//preprocessed\", \n",
    "    \"awra_postprocessed\": \"//fs1-cbr.nexus.csiro.au/{d61-coastal-forecasting-wp3}/work/sho108_handover/data/awra\"\n",
    "}\n",
    "\n",
    "\n",
    "platform_name = 'win_2' # this can be any arbitrary name. So you can refer to the path mapping later.\n",
    "\n",
    "path_mapping_file_path = cp.get_path_mapping_file(platform_name)\n",
    "\n",
    "h.save_json(path_mapping, path_mapping_file_path)\n"
   ]
  },
  {
   "cell_type": "code",
   "execution_count": null,
   "metadata": {},
   "outputs": [],
   "source": []
  }
 ],
 "metadata": {
  "kernelspec": {
   "display_name": "hydroml-dFLAodHf-py3.11",
   "language": "python",
   "name": "python3"
  },
  "language_info": {
   "codemirror_mode": {
    "name": "ipython",
    "version": 3
   },
   "file_extension": ".py",
   "mimetype": "text/x-python",
   "name": "python",
   "nbconvert_exporter": "python",
   "pygments_lexer": "ipython3",
   "version": "3.11.9"
  }
 },
 "nbformat": 4,
 "nbformat_minor": 2
}
